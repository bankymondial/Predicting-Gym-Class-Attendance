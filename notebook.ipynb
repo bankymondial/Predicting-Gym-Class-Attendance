{
 "cells": [
  {
   "cell_type": "markdown",
   "id": "92cd27fd-0b7a-449d-950f-ec2cdeb0cf80",
   "metadata": {},
   "source": [
    "## Predicting Gym Class Attendance"
   ]
  },
  {
   "cell_type": "markdown",
   "id": "ecc43c11-2c17-40a9-8ff2-86c82894d102",
   "metadata": {},
   "source": [
    "### 1. Data Preparation and Cleaning"
   ]
  },
  {
   "cell_type": "code",
   "execution_count": 141,
   "id": "c1509dea-fa56-4eb1-9a63-5c48e08a3d17",
   "metadata": {},
   "outputs": [
    {
     "name": "stdout",
     "output_type": "stream",
     "text": [
      "Requirement already satisfied: kaggle in /home/codespace/.python/current/lib/python3.12/site-packages (1.6.17)\n",
      "Requirement already satisfied: six>=1.10 in /home/codespace/.local/lib/python3.12/site-packages (from kaggle) (1.16.0)\n",
      "Requirement already satisfied: certifi>=2023.7.22 in /home/codespace/.local/lib/python3.12/site-packages (from kaggle) (2024.8.30)\n",
      "Requirement already satisfied: python-dateutil in /home/codespace/.local/lib/python3.12/site-packages (from kaggle) (2.9.0.post0)\n",
      "Requirement already satisfied: requests in /home/codespace/.local/lib/python3.12/site-packages (from kaggle) (2.32.3)\n",
      "Requirement already satisfied: tqdm in /home/codespace/.python/current/lib/python3.12/site-packages (from kaggle) (4.67.0)\n",
      "Requirement already satisfied: python-slugify in /home/codespace/.python/current/lib/python3.12/site-packages (from kaggle) (8.0.4)\n",
      "Requirement already satisfied: urllib3 in /home/codespace/.local/lib/python3.12/site-packages (from kaggle) (2.2.3)\n",
      "Requirement already satisfied: bleach in /home/codespace/.local/lib/python3.12/site-packages (from kaggle) (6.1.0)\n",
      "Requirement already satisfied: webencodings in /home/codespace/.local/lib/python3.12/site-packages (from bleach->kaggle) (0.5.1)\n",
      "Requirement already satisfied: text-unidecode>=1.3 in /home/codespace/.python/current/lib/python3.12/site-packages (from python-slugify->kaggle) (1.3)\n",
      "Requirement already satisfied: charset-normalizer<4,>=2 in /home/codespace/.local/lib/python3.12/site-packages (from requests->kaggle) (3.3.2)\n",
      "Requirement already satisfied: idna<4,>=2.5 in /home/codespace/.local/lib/python3.12/site-packages (from requests->kaggle) (3.10)\n",
      "Dataset URL: https://www.kaggle.com/datasets/ddosad/datacamps-data-science-associate-certification\n",
      "License(s): other\n",
      "datacamps-data-science-associate-certification.zip: Skipping, found more recently modified local copy (use --force to force download)\n"
     ]
    }
   ],
   "source": [
    "!pip install kaggle\n",
    "\n",
    "import os\n",
    "import zipfile\n",
    "import pandas as pd\n",
    "\n",
    "import matplotlib.pyplot as plt\n",
    "import seaborn as sns\n",
    "\n",
    "!kaggle datasets download ddosad/datacamps-data-science-associate-certification\n",
    "\n",
    "with zipfile.ZipFile(\"datacamps-data-science-associate-certification.zip\", \"r\") as zip_ref:\n",
    "    zip_ref.extractall()"
   ]
  },
  {
   "cell_type": "code",
   "execution_count": 142,
   "id": "74c0594b-62cd-488b-b784-f8f5b5d22a7a",
   "metadata": {},
   "outputs": [],
   "source": [
    "df = pd.read_csv(\"fitness_class_2212.csv\")"
   ]
  },
  {
   "cell_type": "code",
   "execution_count": 143,
   "id": "5abd1370-c48b-4d1f-955f-de88c31a1199",
   "metadata": {},
   "outputs": [
    {
     "data": {
      "text/html": [
       "<div>\n",
       "<style scoped>\n",
       "    .dataframe tbody tr th:only-of-type {\n",
       "        vertical-align: middle;\n",
       "    }\n",
       "\n",
       "    .dataframe tbody tr th {\n",
       "        vertical-align: top;\n",
       "    }\n",
       "\n",
       "    .dataframe thead th {\n",
       "        text-align: right;\n",
       "    }\n",
       "</style>\n",
       "<table border=\"1\" class=\"dataframe\">\n",
       "  <thead>\n",
       "    <tr style=\"text-align: right;\">\n",
       "      <th></th>\n",
       "      <th>booking_id</th>\n",
       "      <th>months_as_member</th>\n",
       "      <th>weight</th>\n",
       "      <th>days_before</th>\n",
       "      <th>day_of_week</th>\n",
       "      <th>time</th>\n",
       "      <th>category</th>\n",
       "      <th>attended</th>\n",
       "    </tr>\n",
       "  </thead>\n",
       "  <tbody>\n",
       "    <tr>\n",
       "      <th>0</th>\n",
       "      <td>1</td>\n",
       "      <td>17</td>\n",
       "      <td>79.56</td>\n",
       "      <td>8</td>\n",
       "      <td>Wed</td>\n",
       "      <td>PM</td>\n",
       "      <td>Strength</td>\n",
       "      <td>0</td>\n",
       "    </tr>\n",
       "    <tr>\n",
       "      <th>1</th>\n",
       "      <td>2</td>\n",
       "      <td>10</td>\n",
       "      <td>79.01</td>\n",
       "      <td>2</td>\n",
       "      <td>Mon</td>\n",
       "      <td>AM</td>\n",
       "      <td>HIIT</td>\n",
       "      <td>0</td>\n",
       "    </tr>\n",
       "    <tr>\n",
       "      <th>2</th>\n",
       "      <td>3</td>\n",
       "      <td>16</td>\n",
       "      <td>74.53</td>\n",
       "      <td>14</td>\n",
       "      <td>Sun</td>\n",
       "      <td>AM</td>\n",
       "      <td>Strength</td>\n",
       "      <td>0</td>\n",
       "    </tr>\n",
       "    <tr>\n",
       "      <th>3</th>\n",
       "      <td>4</td>\n",
       "      <td>5</td>\n",
       "      <td>86.12</td>\n",
       "      <td>10</td>\n",
       "      <td>Fri</td>\n",
       "      <td>AM</td>\n",
       "      <td>Cycling</td>\n",
       "      <td>0</td>\n",
       "    </tr>\n",
       "    <tr>\n",
       "      <th>4</th>\n",
       "      <td>5</td>\n",
       "      <td>15</td>\n",
       "      <td>69.29</td>\n",
       "      <td>8</td>\n",
       "      <td>Thu</td>\n",
       "      <td>AM</td>\n",
       "      <td>HIIT</td>\n",
       "      <td>0</td>\n",
       "    </tr>\n",
       "  </tbody>\n",
       "</table>\n",
       "</div>"
      ],
      "text/plain": [
       "   booking_id  months_as_member  weight days_before day_of_week time  \\\n",
       "0           1                17   79.56           8         Wed   PM   \n",
       "1           2                10   79.01           2         Mon   AM   \n",
       "2           3                16   74.53          14         Sun   AM   \n",
       "3           4                 5   86.12          10         Fri   AM   \n",
       "4           5                15   69.29           8         Thu   AM   \n",
       "\n",
       "   category  attended  \n",
       "0  Strength         0  \n",
       "1      HIIT         0  \n",
       "2  Strength         0  \n",
       "3   Cycling         0  \n",
       "4      HIIT         0  "
      ]
     },
     "execution_count": 143,
     "metadata": {},
     "output_type": "execute_result"
    }
   ],
   "source": [
    "df.head()"
   ]
  },
  {
   "cell_type": "code",
   "execution_count": 144,
   "id": "545724b2-8a57-48c2-9e7b-a6d069fde907",
   "metadata": {},
   "outputs": [
    {
     "data": {
      "text/plain": [
       "booking_id            int64\n",
       "months_as_member      int64\n",
       "weight              float64\n",
       "days_before          object\n",
       "day_of_week          object\n",
       "time                 object\n",
       "category             object\n",
       "attended              int64\n",
       "dtype: object"
      ]
     },
     "execution_count": 144,
     "metadata": {},
     "output_type": "execute_result"
    }
   ],
   "source": [
    "df.dtypes"
   ]
  },
  {
   "cell_type": "code",
   "execution_count": 145,
   "id": "ab86354d-2fe8-4a32-8a89-523eed754c8d",
   "metadata": {},
   "outputs": [
    {
     "data": {
      "text/plain": [
       "booking_id           0\n",
       "months_as_member     0\n",
       "weight              20\n",
       "days_before          0\n",
       "day_of_week          0\n",
       "time                 0\n",
       "category             0\n",
       "attended             0\n",
       "dtype: int64"
      ]
     },
     "execution_count": 145,
     "metadata": {},
     "output_type": "execute_result"
    }
   ],
   "source": [
    "df.isna().sum()"
   ]
  },
  {
   "cell_type": "markdown",
   "id": "825df1b9-b8d4-4fb8-b024-af7058142187",
   "metadata": {},
   "source": [
    "#### To replace the missing values in `weight`, it's necessary to explore the distribution of the feature."
   ]
  },
  {
   "cell_type": "code",
   "execution_count": 146,
   "id": "22390a11-aaac-49a7-a81c-919c04918edb",
   "metadata": {},
   "outputs": [
    {
     "data": {
      "image/png": "[encoded data removed]",
      "text/plain": [
       "<Figure size 1000x600 with 1 Axes>"
      ]
     },
     "metadata": {},
     "output_type": "display_data"
    }
   ],
   "source": [
    "plt.figure(figsize=(10, 6))\n",
    "sns.histplot(df['weight'], kde=True, bins=30, color='skyblue')  # KDE (Kernel Density Estimation) adds a smooth line\n",
    "plt.title('Distribution of Weight')\n",
    "plt.xlabel('Weight')\n",
    "plt.ylabel('Frequency')\n",
    "plt.show()"
   ]
  },
  {
   "cell_type": "markdown",
   "id": "b73a2c8f-da00-40bb-aaad-d4e30546f0d0",
   "metadata": {},
   "source": [
    "#### Since the distribution is right-skewed, it's better to impute the missing values with the `median` since it is not affected by outliers or the long tail of the distribution."
   ]
  },
  {
   "cell_type": "code",
   "execution_count": 147,
   "id": "9048176f-bfb5-4fd8-a276-38aed076151a",
   "metadata": {},
   "outputs": [],
   "source": [
    "df.weight = df.weight.fillna(df.weight.median())"
   ]
  },
  {
   "cell_type": "code",
   "execution_count": 148,
   "id": "9778a14d-7ea8-496e-806d-c48d9af95641",
   "metadata": {},
   "outputs": [
    {
     "data": {
      "text/plain": [
       "booking_id          0\n",
       "months_as_member    0\n",
       "weight              0\n",
       "days_before         0\n",
       "day_of_week         0\n",
       "time                0\n",
       "category            0\n",
       "attended            0\n",
       "dtype: int64"
      ]
     },
     "execution_count": 148,
     "metadata": {},
     "output_type": "execute_result"
    }
   ],
   "source": [
    "df.isna().sum()"
   ]
  },
  {
   "cell_type": "code",
   "execution_count": null,
   "id": "d3888be7-fdf1-431b-8b76-376274723f3d",
   "metadata": {},
   "outputs": [],
   "source": []
  },
  {
   "cell_type": "markdown",
   "id": "86125217-7dee-4320-8fb3-6732bfd00399",
   "metadata": {},
   "source": [
    "#### Next, there is a need to delete `booking_id`, convert `days_before` to integers."
   ]
  },
  {
   "cell_type": "code",
   "execution_count": 149,
   "id": "018c582a-05d6-4092-987a-b6298ea4b439",
   "metadata": {},
   "outputs": [],
   "source": [
    "df.drop('booking_id', axis=1, inplace=True)"
   ]
  },
  {
   "cell_type": "code",
   "execution_count": 150,
   "id": "361ecc58-79ff-46d8-aaf5-2e70d8a4578f",
   "metadata": {},
   "outputs": [
    {
     "name": "stdout",
     "output_type": "stream",
     "text": [
      "['8' '2' '14' '10' '6' '4' '9' '12' '5' '3' '7' '13' '12 days' '20' '1'\n",
      " '15' '6 days' '11' '13 days' '3 days' '16' '1 days' '7 days' '8 days'\n",
      " '10 days' '14 days' '17' '5 days' '2 days' '4 days' '29']\n",
      "---------------------\n",
      "object\n"
     ]
    }
   ],
   "source": [
    "print(df.days_before.unique())\n",
    "print(\"---------------------\")\n",
    "print(df.days_before.dtype)"
   ]
  },
  {
   "cell_type": "code",
   "execution_count": 151,
   "id": "a5bd3463-cf7a-46d6-8125-176ccbbef26f",
   "metadata": {},
   "outputs": [],
   "source": [
    "df.days_before = df.days_before.str.replace(r' days$', '', regex=True) # Remove ' days'"
   ]
  },
  {
   "cell_type": "code",
   "execution_count": 152,
   "id": "69f82883-4189-4410-8eff-0e3eac500da3",
   "metadata": {},
   "outputs": [],
   "source": [
    "df.days_before = pd.to_numeric(df.days_before, errors='coerce').astype(int) # Convert the cleaned values to integers"
   ]
  },
  {
   "cell_type": "code",
   "execution_count": 153,
   "id": "ad70703f-ea61-470c-83e8-223cfb23f782",
   "metadata": {},
   "outputs": [
    {
     "data": {
      "text/plain": [
       "months_as_member      int64\n",
       "weight              float64\n",
       "days_before           int64\n",
       "day_of_week          object\n",
       "time                 object\n",
       "category             object\n",
       "attended              int64\n",
       "dtype: object"
      ]
     },
     "execution_count": 153,
     "metadata": {},
     "output_type": "execute_result"
    }
   ],
   "source": [
    "df.dtypes"
   ]
  },
  {
   "cell_type": "code",
   "execution_count": null,
   "id": "79593bcc-fe83-4772-a66e-dc25358dec57",
   "metadata": {},
   "outputs": [],
   "source": []
  },
  {
   "cell_type": "markdown",
   "id": "73e6b236-b001-4ddb-88ae-c601fab50599",
   "metadata": {},
   "source": [
    "#### Then, we need to ensure that all columns have unique values."
   ]
  },
  {
   "cell_type": "code",
   "execution_count": 154,
   "id": "82073913-e6b2-4f97-9439-461d39a8d5da",
   "metadata": {},
   "outputs": [
    {
     "name": "stdout",
     "output_type": "stream",
     "text": [
      "\n",
      "Unique values in each column:\n",
      "months_as_member    [17, 10, 16, 5, 15, 7, 11, 9, 23, 13, 8, 22, 6...\n",
      "weight              [79.56, 79.01, 74.53, 86.12, 69.29, 93.33, 88....\n",
      "days_before         [8, 2, 14, 10, 6, 4, 9, 12, 5, 3, 7, 13, 20, 1...\n",
      "day_of_week         [Wed, Mon, Sun, Fri, Thu, Wednesday, Fri., Tue...\n",
      "time                                                         [PM, AM]\n",
      "category                     [Strength, HIIT, Cycling, Yoga, -, Aqua]\n",
      "attended                                                       [0, 1]\n",
      "dtype: object\n"
     ]
    }
   ],
   "source": [
    "unique_values = df.apply(lambda x: x.unique())\n",
    "print(\"\\nUnique values in each column:\")\n",
    "print(unique_values)"
   ]
  },
  {
   "cell_type": "code",
   "execution_count": 155,
   "id": "520521c0-c874-4f87-b932-29f2db83e6c4",
   "metadata": {},
   "outputs": [],
   "source": [
    "df.day_of_week = df.day_of_week.replace({'Wednesday': 'Wed', 'Monday': 'Mon'})  # Replace 'Wednesday' with 'Wed'\n",
    "df.day_of_week = df.day_of_week.str.replace(r'Fri\\.$', 'Fri', regex=True)  # Use raw string to remove period from 'Fri.'\n",
    "\n",
    "df.category = df.category.replace('-', 'Unknown')  # Replace with \"Unknown\" instead of NaN to prevent information loss"
   ]
  },
  {
   "cell_type": "code",
   "execution_count": 156,
   "id": "564264e9-3c91-4955-9fd5-9aecda00a317",
   "metadata": {},
   "outputs": [
    {
     "name": "stdout",
     "output_type": "stream",
     "text": [
      "Unique values in 'months_as_member' column:\n",
      "[ 17  10  16   5  15   7  11   9  23  13   8  22   6  33  24  14   2  12\n",
      "  26  28  27   1   3  21  18  19  53  20  34  25  32  73  55   4  35  54\n",
      "  76  62  42 105  90  29  60  30 107  52  37  38  48  51  40  89  57  36\n",
      "  44  39  41  47  58  66  45  43  61  50  65  31  97  59  93 148 111  69]\n",
      "--------------------------------------------------\n",
      "Unique values in 'weight' column:\n",
      "[79.56 79.01 74.53 ... 87.38 68.64 94.39]\n",
      "--------------------------------------------------\n",
      "Unique values in 'days_before' column:\n",
      "[ 8  2 14 10  6  4  9 12  5  3  7 13 20  1 15 11 16 17 29]\n",
      "--------------------------------------------------\n",
      "Unique values in 'day_of_week' column:\n",
      "['Wed' 'Mon' 'Sun' 'Fri' 'Thu' 'Tue' 'Sat']\n",
      "--------------------------------------------------\n",
      "Unique values in 'time' column:\n",
      "['PM' 'AM']\n",
      "--------------------------------------------------\n",
      "Unique values in 'category' column:\n",
      "['Strength' 'HIIT' 'Cycling' 'Yoga' 'Unknown' 'Aqua']\n",
      "--------------------------------------------------\n",
      "Unique values in 'attended' column:\n",
      "[0 1]\n",
      "--------------------------------------------------\n"
     ]
    }
   ],
   "source": [
    "unique_values = df.apply(lambda x: x.unique()) # Get unique values for all columns in the DataFrame\n",
    "\n",
    "for column, values in unique_values.items():\n",
    "    print(f\"Unique values in '{column}' column:\")\n",
    "    print(values)\n",
    "    print(\"-\" * 50)  # Just a separator for readability"
   ]
  },
  {
   "cell_type": "code",
   "execution_count": 157,
   "id": "47f1d73e-53b9-499b-b0b2-c9ee6fc3b329",
   "metadata": {},
   "outputs": [],
   "source": [
    "# Convert values in columns to lowercase\n",
    "df.day_of_week = df.day_of_week.str.lower()\n",
    "df.category = df.category.str.lower()\n",
    "df.time = df.time.str.lower()"
   ]
  },
  {
   "cell_type": "code",
   "execution_count": 158,
   "id": "f617ccaa-9593-4f56-ad56-d9b11c06e2b1",
   "metadata": {},
   "outputs": [
    {
     "name": "stdout",
     "output_type": "stream",
     "text": [
      "Unique values in day_of_week column: ['wed' 'mon' 'sun' 'fri' 'thu' 'tue' 'sat']\n",
      "Unique values in category column: ['strength' 'hiit' 'cycling' 'yoga' 'unknown' 'aqua']\n",
      "Unique values in time column: ['pm' 'am']\n"
     ]
    }
   ],
   "source": [
    "variables = ['day_of_week', 'category', 'time']\n",
    "for v in variables:\n",
    "    print(f\"Unique values in {v} column:\", df[v].unique())"
   ]
  },
  {
   "cell_type": "code",
   "execution_count": null,
   "id": "fd3c7b83-5b92-45d7-bdce-f04e829aed70",
   "metadata": {},
   "outputs": [],
   "source": []
  },
  {
   "cell_type": "code",
   "execution_count": null,
   "id": "dcb039f4-fcac-4e27-8e10-8863c0cd1330",
   "metadata": {},
   "outputs": [],
   "source": []
  },
  {
   "cell_type": "markdown",
   "id": "2d241bce-8517-43b1-ada9-9f2c89b3f736",
   "metadata": {},
   "source": [
    "### 2. Splitting the dataset\n",
    " - Performing a 60%/20%/20% splits for training/validation/test datasets respectively"
   ]
  },
  {
   "cell_type": "code",
   "execution_count": 159,
   "id": "1a699247-02a7-40e5-9829-b4ea6c18caa1",
   "metadata": {},
   "outputs": [],
   "source": [
    "from sklearn.model_selection import train_test_split"
   ]
  },
  {
   "cell_type": "code",
   "execution_count": 160,
   "id": "093135b6-455c-4b59-9ceb-08d4bd11388c",
   "metadata": {},
   "outputs": [],
   "source": [
    "df_full_train, df_test = train_test_split(df, test_size=0.2, random_state=1)\n",
    "df_train, df_val = train_test_split(df_full_train, test_size=0.25, random_state=1)"
   ]
  },
  {
   "cell_type": "code",
   "execution_count": 161,
   "id": "61a4b6d7-c86f-49ae-aa68-df9476426185",
   "metadata": {},
   "outputs": [
    {
     "data": {
      "text/plain": [
       "(900, 300, 300)"
      ]
     },
     "execution_count": 161,
     "metadata": {},
     "output_type": "execute_result"
    }
   ],
   "source": [
    "len(df_train), len(df_val), len(df_test)"
   ]
  },
  {
   "cell_type": "code",
   "execution_count": 162,
   "id": "43e49e70-35a0-43a3-ae7c-9c1affb408dd",
   "metadata": {},
   "outputs": [
    {
     "data": {
      "text/html": [
       "<div>\n",
       "<style scoped>\n",
       "    .dataframe tbody tr th:only-of-type {\n",
       "        vertical-align: middle;\n",
       "    }\n",
       "\n",
       "    .dataframe tbody tr th {\n",
       "        vertical-align: top;\n",
       "    }\n",
       "\n",
       "    .dataframe thead th {\n",
       "        text-align: right;\n",
       "    }\n",
       "</style>\n",
       "<table border=\"1\" class=\"dataframe\">\n",
       "  <thead>\n",
       "    <tr style=\"text-align: right;\">\n",
       "      <th></th>\n",
       "      <th>months_as_member</th>\n",
       "      <th>weight</th>\n",
       "      <th>days_before</th>\n",
       "      <th>day_of_week</th>\n",
       "      <th>time</th>\n",
       "      <th>category</th>\n",
       "      <th>attended</th>\n",
       "    </tr>\n",
       "  </thead>\n",
       "  <tbody>\n",
       "    <tr>\n",
       "      <th>0</th>\n",
       "      <td>27</td>\n",
       "      <td>77.39</td>\n",
       "      <td>8</td>\n",
       "      <td>thu</td>\n",
       "      <td>am</td>\n",
       "      <td>strength</td>\n",
       "      <td>1</td>\n",
       "    </tr>\n",
       "    <tr>\n",
       "      <th>1</th>\n",
       "      <td>20</td>\n",
       "      <td>60.10</td>\n",
       "      <td>2</td>\n",
       "      <td>mon</td>\n",
       "      <td>am</td>\n",
       "      <td>aqua</td>\n",
       "      <td>0</td>\n",
       "    </tr>\n",
       "    <tr>\n",
       "      <th>2</th>\n",
       "      <td>13</td>\n",
       "      <td>73.05</td>\n",
       "      <td>14</td>\n",
       "      <td>sun</td>\n",
       "      <td>pm</td>\n",
       "      <td>hiit</td>\n",
       "      <td>1</td>\n",
       "    </tr>\n",
       "    <tr>\n",
       "      <th>3</th>\n",
       "      <td>10</td>\n",
       "      <td>70.61</td>\n",
       "      <td>8</td>\n",
       "      <td>thu</td>\n",
       "      <td>am</td>\n",
       "      <td>hiit</td>\n",
       "      <td>0</td>\n",
       "    </tr>\n",
       "    <tr>\n",
       "      <th>4</th>\n",
       "      <td>20</td>\n",
       "      <td>77.02</td>\n",
       "      <td>8</td>\n",
       "      <td>thu</td>\n",
       "      <td>am</td>\n",
       "      <td>yoga</td>\n",
       "      <td>0</td>\n",
       "    </tr>\n",
       "    <tr>\n",
       "      <th>...</th>\n",
       "      <td>...</td>\n",
       "      <td>...</td>\n",
       "      <td>...</td>\n",
       "      <td>...</td>\n",
       "      <td>...</td>\n",
       "      <td>...</td>\n",
       "      <td>...</td>\n",
       "    </tr>\n",
       "    <tr>\n",
       "      <th>295</th>\n",
       "      <td>12</td>\n",
       "      <td>72.15</td>\n",
       "      <td>10</td>\n",
       "      <td>fri</td>\n",
       "      <td>am</td>\n",
       "      <td>aqua</td>\n",
       "      <td>1</td>\n",
       "    </tr>\n",
       "    <tr>\n",
       "      <th>296</th>\n",
       "      <td>10</td>\n",
       "      <td>80.77</td>\n",
       "      <td>8</td>\n",
       "      <td>thu</td>\n",
       "      <td>am</td>\n",
       "      <td>yoga</td>\n",
       "      <td>1</td>\n",
       "    </tr>\n",
       "    <tr>\n",
       "      <th>297</th>\n",
       "      <td>15</td>\n",
       "      <td>77.20</td>\n",
       "      <td>10</td>\n",
       "      <td>fri</td>\n",
       "      <td>am</td>\n",
       "      <td>cycling</td>\n",
       "      <td>0</td>\n",
       "    </tr>\n",
       "    <tr>\n",
       "      <th>298</th>\n",
       "      <td>16</td>\n",
       "      <td>71.70</td>\n",
       "      <td>14</td>\n",
       "      <td>sun</td>\n",
       "      <td>am</td>\n",
       "      <td>strength</td>\n",
       "      <td>1</td>\n",
       "    </tr>\n",
       "    <tr>\n",
       "      <th>299</th>\n",
       "      <td>15</td>\n",
       "      <td>86.09</td>\n",
       "      <td>10</td>\n",
       "      <td>fri</td>\n",
       "      <td>am</td>\n",
       "      <td>hiit</td>\n",
       "      <td>0</td>\n",
       "    </tr>\n",
       "  </tbody>\n",
       "</table>\n",
       "<p>300 rows × 7 columns</p>\n",
       "</div>"
      ],
      "text/plain": [
       "     months_as_member  weight  days_before day_of_week time  category  \\\n",
       "0                  27   77.39            8         thu   am  strength   \n",
       "1                  20   60.10            2         mon   am      aqua   \n",
       "2                  13   73.05           14         sun   pm      hiit   \n",
       "3                  10   70.61            8         thu   am      hiit   \n",
       "4                  20   77.02            8         thu   am      yoga   \n",
       "..                ...     ...          ...         ...  ...       ...   \n",
       "295                12   72.15           10         fri   am      aqua   \n",
       "296                10   80.77            8         thu   am      yoga   \n",
       "297                15   77.20           10         fri   am   cycling   \n",
       "298                16   71.70           14         sun   am  strength   \n",
       "299                15   86.09           10         fri   am      hiit   \n",
       "\n",
       "     attended  \n",
       "0           1  \n",
       "1           0  \n",
       "2           1  \n",
       "3           0  \n",
       "4           0  \n",
       "..        ...  \n",
       "295         1  \n",
       "296         1  \n",
       "297         0  \n",
       "298         1  \n",
       "299         0  \n",
       "\n",
       "[300 rows x 7 columns]"
      ]
     },
     "execution_count": 162,
     "metadata": {},
     "output_type": "execute_result"
    }
   ],
   "source": [
    "df_train.reset_index(drop=True)\n",
    "df_val.reset_index(drop=True)\n",
    "df_test.reset_index(drop=True)"
   ]
  },
  {
   "cell_type": "code",
   "execution_count": 163,
   "id": "aa313791-44f8-4941-b25c-157bde98013b",
   "metadata": {},
   "outputs": [],
   "source": [
    "y_train = df_train.attended.values\n",
    "y_val = df_val.attended.values\n",
    "y_test = df_test.attended.values"
   ]
  },
  {
   "cell_type": "code",
   "execution_count": 164,
   "id": "1e0eba18-bf33-4887-b72a-3782c35572c5",
   "metadata": {},
   "outputs": [],
   "source": [
    "del df_train['attended']\n",
    "del df_val['attended']\n",
    "del df_test['attended']"
   ]
  },
  {
   "cell_type": "code",
   "execution_count": null,
   "id": "b9fd7228-3710-472a-8319-ad5fa55dbe2f",
   "metadata": {},
   "outputs": [],
   "source": []
  },
  {
   "cell_type": "markdown",
   "id": "1fd391ea-3b18-4f50-ac18-09b84909e517",
   "metadata": {},
   "source": [
    "### 3. Exploratory Data Analysis\n",
    "- Looking at the target variable (attended)\n",
    "- Assigning numerical and categorical variables"
   ]
  },
  {
   "cell_type": "code",
   "execution_count": 169,
   "id": "38da90ae-adfa-4137-b561-efb11f2c0c62",
   "metadata": {},
   "outputs": [
    {
     "data": {
      "text/plain": [
       "attended\n",
       "0    0.704167\n",
       "1    0.295833\n",
       "Name: proportion, dtype: float64"
      ]
     },
     "execution_count": 169,
     "metadata": {},
     "output_type": "execute_result"
    }
   ],
   "source": [
    "df_full_train.attended.value_counts(normalize=True)"
   ]
  },
  {
   "cell_type": "code",
   "execution_count": 170,
   "id": "1549d599-1a80-4f77-b077-7dbb7ceb3620",
   "metadata": {},
   "outputs": [
    {
     "data": {
      "text/plain": [
       "Index(['months_as_member', 'weight', 'days_before', 'day_of_week', 'time',\n",
       "       'category', 'attended'],\n",
       "      dtype='object')"
      ]
     },
     "execution_count": 170,
     "metadata": {},
     "output_type": "execute_result"
    }
   ],
   "source": [
    "df_full_train.columns"
   ]
  },
  {
   "cell_type": "code",
   "execution_count": 171,
   "id": "469ae7f1-68c2-4239-b199-4a9203bd4c77",
   "metadata": {},
   "outputs": [
    {
     "data": {
      "text/plain": [
       "months_as_member      int64\n",
       "weight              float64\n",
       "days_before           int64\n",
       "day_of_week          object\n",
       "time                 object\n",
       "category             object\n",
       "attended              int64\n",
       "dtype: object"
      ]
     },
     "execution_count": 171,
     "metadata": {},
     "output_type": "execute_result"
    }
   ],
   "source": [
    "df_full_train.dtypes"
   ]
  },
  {
   "cell_type": "code",
   "execution_count": 172,
   "id": "67d5ff23-a230-4dbc-8b28-df9507ffe2e1",
   "metadata": {},
   "outputs": [],
   "source": [
    "numerical = ['months_as_member', 'weight', 'days_before']"
   ]
  },
  {
   "cell_type": "code",
   "execution_count": 173,
   "id": "a2dc6ced-e998-4937-acc8-0a0ff07e6c3d",
   "metadata": {},
   "outputs": [],
   "source": [
    "categorical = ['day_of_week', 'time', 'category']"
   ]
  },
  {
   "cell_type": "code",
   "execution_count": 175,
   "id": "3d3a0d8a-d2fb-487f-9452-e74ee63cedf4",
   "metadata": {},
   "outputs": [
    {
     "data": {
      "text/html": [
       "<div>\n",
       "<style scoped>\n",
       "    .dataframe tbody tr th:only-of-type {\n",
       "        vertical-align: middle;\n",
       "    }\n",
       "\n",
       "    .dataframe tbody tr th {\n",
       "        vertical-align: top;\n",
       "    }\n",
       "\n",
       "    .dataframe thead th {\n",
       "        text-align: right;\n",
       "    }\n",
       "</style>\n",
       "<table border=\"1\" class=\"dataframe\">\n",
       "  <thead>\n",
       "    <tr style=\"text-align: right;\">\n",
       "      <th></th>\n",
       "      <th>day_of_week</th>\n",
       "      <th>time</th>\n",
       "      <th>category</th>\n",
       "    </tr>\n",
       "  </thead>\n",
       "  <tbody>\n",
       "    <tr>\n",
       "      <th>73</th>\n",
       "      <td>wed</td>\n",
       "      <td>pm</td>\n",
       "      <td>hiit</td>\n",
       "    </tr>\n",
       "    <tr>\n",
       "      <th>701</th>\n",
       "      <td>thu</td>\n",
       "      <td>am</td>\n",
       "      <td>strength</td>\n",
       "    </tr>\n",
       "    <tr>\n",
       "      <th>1307</th>\n",
       "      <td>tue</td>\n",
       "      <td>am</td>\n",
       "      <td>hiit</td>\n",
       "    </tr>\n",
       "    <tr>\n",
       "      <th>556</th>\n",
       "      <td>mon</td>\n",
       "      <td>am</td>\n",
       "      <td>strength</td>\n",
       "    </tr>\n",
       "    <tr>\n",
       "      <th>785</th>\n",
       "      <td>fri</td>\n",
       "      <td>am</td>\n",
       "      <td>strength</td>\n",
       "    </tr>\n",
       "    <tr>\n",
       "      <th>...</th>\n",
       "      <td>...</td>\n",
       "      <td>...</td>\n",
       "      <td>...</td>\n",
       "    </tr>\n",
       "    <tr>\n",
       "      <th>715</th>\n",
       "      <td>fri</td>\n",
       "      <td>am</td>\n",
       "      <td>cycling</td>\n",
       "    </tr>\n",
       "    <tr>\n",
       "      <th>905</th>\n",
       "      <td>fri</td>\n",
       "      <td>pm</td>\n",
       "      <td>strength</td>\n",
       "    </tr>\n",
       "    <tr>\n",
       "      <th>1096</th>\n",
       "      <td>fri</td>\n",
       "      <td>am</td>\n",
       "      <td>cycling</td>\n",
       "    </tr>\n",
       "    <tr>\n",
       "      <th>235</th>\n",
       "      <td>sat</td>\n",
       "      <td>am</td>\n",
       "      <td>hiit</td>\n",
       "    </tr>\n",
       "    <tr>\n",
       "      <th>1061</th>\n",
       "      <td>mon</td>\n",
       "      <td>am</td>\n",
       "      <td>hiit</td>\n",
       "    </tr>\n",
       "  </tbody>\n",
       "</table>\n",
       "<p>1200 rows × 3 columns</p>\n",
       "</div>"
      ],
      "text/plain": [
       "     day_of_week time  category\n",
       "73           wed   pm      hiit\n",
       "701          thu   am  strength\n",
       "1307         tue   am      hiit\n",
       "556          mon   am  strength\n",
       "785          fri   am  strength\n",
       "...          ...  ...       ...\n",
       "715          fri   am   cycling\n",
       "905          fri   pm  strength\n",
       "1096         fri   am   cycling\n",
       "235          sat   am      hiit\n",
       "1061         mon   am      hiit\n",
       "\n",
       "[1200 rows x 3 columns]"
      ]
     },
     "execution_count": 175,
     "metadata": {},
     "output_type": "execute_result"
    }
   ],
   "source": [
    "df_full_train[categorical]"
   ]
  },
  {
   "cell_type": "code",
   "execution_count": 178,
   "id": "6842f33c-c3a2-404e-aec5-d65c8d11a9e9",
   "metadata": {},
   "outputs": [
    {
     "data": {
      "text/plain": [
       "day_of_week    7\n",
       "time           2\n",
       "category       6\n",
       "dtype: int64"
      ]
     },
     "execution_count": 178,
     "metadata": {},
     "output_type": "execute_result"
    }
   ],
   "source": [
    "df_full_train[categorical].nunique()"
   ]
  },
  {
   "cell_type": "code",
   "execution_count": null,
   "id": "f395477d-2234-46c4-920b-e0cc262d424f",
   "metadata": {},
   "outputs": [],
   "source": []
  },
  {
   "cell_type": "code",
   "execution_count": null,
   "id": "883f9b49-6328-459c-a380-b951aa5d82f3",
   "metadata": {},
   "outputs": [],
   "source": []
  },
  {
   "cell_type": "markdown",
   "id": "3103d394-98e2-492f-a901-48360be3270b",
   "metadata": {},
   "source": [
    "### 4. Feature importance: Mutual information and Correlation\n",
    "- Mutual information tells us how much we can learn about one variable if we know the value of another. In this project, it's a way to measure the importance of categorical variables. - https://en.wikipedia.org/wiki/Mutual_information\n",
    "- A correlation coefficient is a numerical measure of some type of linear correlation, meaning a statistical relationship between two variables. https://en.wikipedia.org/wiki/Correlation_coefficient. It's a way to measure the importance of numerical variables."
   ]
  },
  {
   "cell_type": "markdown",
   "id": "b37e666b-02a7-433c-af1b-500ec0d34820",
   "metadata": {},
   "source": [
    "#### Mutual information"
   ]
  },
  {
   "cell_type": "code",
   "execution_count": 204,
   "id": "19d072b2-3709-4ba8-9126-9ef32afb24da",
   "metadata": {},
   "outputs": [],
   "source": [
    "from sklearn.metrics import mutual_info_score"
   ]
  },
  {
   "cell_type": "code",
   "execution_count": 205,
   "id": "aeddd7a4-989e-4848-a171-653318e2b9c5",
   "metadata": {},
   "outputs": [],
   "source": [
    "def mutual_info_attended_score(series):\n",
    "    return mutual_info_score(series, df_full_train.attended)"
   ]
  },
  {
   "cell_type": "code",
   "execution_count": 206,
   "id": "d0f3d0b4-8048-44ae-bafb-dd647a3b992c",
   "metadata": {},
   "outputs": [
    {
     "data": {
      "text/plain": [
       "day_of_week    0.002950\n",
       "time           0.001832\n",
       "category       0.001477\n",
       "dtype: float64"
      ]
     },
     "execution_count": 206,
     "metadata": {},
     "output_type": "execute_result"
    }
   ],
   "source": [
    "mi = df_full_train[categorical].apply(mutual_info_attended_score)\n",
    "mi.sort_values(ascending=False)"
   ]
  },
  {
   "cell_type": "markdown",
   "id": "00dcbb7c-9ecb-4943-bf31-4fd8a54b4a5a",
   "metadata": {},
   "source": [
    "#### The low values of mutual information score between the categorical variables and the target variable `attended` implies that the day of the week, time of day nor the fitness class category give little insight into whether a member attended the gym or not."
   ]
  },
  {
   "cell_type": "code",
   "execution_count": null,
   "id": "78e32880-4d14-4b19-a33b-8610909b9c24",
   "metadata": {},
   "outputs": [],
   "source": []
  },
  {
   "cell_type": "markdown",
   "id": "3e096761-409c-422f-8274-aec7548e1de7",
   "metadata": {},
   "source": [
    "#### Correlation coefficient"
   ]
  },
  {
   "cell_type": "code",
   "execution_count": 207,
   "id": "f1cffd56-62d6-43ce-8886-9409afeb925a",
   "metadata": {},
   "outputs": [
    {
     "data": {
      "text/plain": [
       "months_as_member    0.495458\n",
       "weight              0.285607\n",
       "days_before         0.028191\n",
       "dtype: float64"
      ]
     },
     "execution_count": 207,
     "metadata": {},
     "output_type": "execute_result"
    }
   ],
   "source": [
    "df_full_train[numerical].corrwith(df_full_train.attended).abs()"
   ]
  },
  {
   "cell_type": "markdown",
   "id": "ac859102-629d-4cd6-8bac-92d1e7395da8",
   "metadata": {},
   "source": [
    "#### The positive values of correlation coefficient implies that the likelihood of attendance increases with increase in each of them but at varying levels.\n",
    "- `months_as_member` has the highest value albeit moderate relationship with attendance.\n",
    "- As a member's `weight` increases, the likelihood of attendance increases but the relationship is weak.\n",
    "- The `days_before` has almost no relationship with whether a person attends the gym."
   ]
  },
  {
   "cell_type": "code",
   "execution_count": null,
   "id": "5ba2b7b8-2e07-4e29-b9e4-adf07b43caff",
   "metadata": {},
   "outputs": [],
   "source": []
  },
  {
   "cell_type": "markdown",
   "id": "906f63b3-4256-4a80-bfae-b61b500764fe",
   "metadata": {},
   "source": [
    "#### Further insights into relationships between the `categorical` and `numerical` variables "
   ]
  },
  {
   "cell_type": "code",
   "execution_count": 208,
   "id": "66ccc4b6-be9a-49a2-94b5-459dc5f74442",
   "metadata": {},
   "outputs": [
    {
     "name": "stdout",
     "output_type": "stream",
     "text": [
      "Overall attendance rate: 0.29583333333333334\n"
     ]
    }
   ],
   "source": [
    "overall_attendance_rate = df_full_train['attended'].mean()\n",
    "print(\"Overall attendance rate:\", overall_attendance_rate)"
   ]
  },
  {
   "cell_type": "code",
   "execution_count": 209,
   "id": "6781a9fb-4c49-4da0-b451-34607507b263",
   "metadata": {},
   "outputs": [
    {
     "data": {
      "text/plain": [
       "np.float64(0.6666666666666666)"
      ]
     },
     "execution_count": 209,
     "metadata": {},
     "output_type": "execute_result"
    }
   ],
   "source": [
    "df_full_train[(df_full_train.months_as_member >= 24) & (df_full_train.weight >= 80)].attended.mean()"
   ]
  },
  {
   "cell_type": "code",
   "execution_count": 210,
   "id": "b231cc25-a4b3-497c-9d69-005ae912ab63",
   "metadata": {},
   "outputs": [
    {
     "data": {
      "text/plain": [
       "np.float64(0.7763975155279503)"
      ]
     },
     "execution_count": 210,
     "metadata": {},
     "output_type": "execute_result"
    }
   ],
   "source": [
    "df_full_train[(df_full_train.months_as_member >= 24) & (df_full_train.weight < 80)].attended.mean()"
   ]
  },
  {
   "cell_type": "code",
   "execution_count": 211,
   "id": "29a48bd4-af60-4105-9efa-b3550f499b12",
   "metadata": {},
   "outputs": [
    {
     "data": {
      "text/plain": [
       "np.float64(0.7692307692307693)"
      ]
     },
     "execution_count": 211,
     "metadata": {},
     "output_type": "execute_result"
    }
   ],
   "source": [
    "df_full_train[(df_full_train.months_as_member >= 24) & (df_full_train.time == 'am')].attended.mean()"
   ]
  },
  {
   "cell_type": "markdown",
   "id": "417aebc2-da67-4016-b757-40bda462279f",
   "metadata": {},
   "source": [
    "#### Implication\n",
    "- Members who have been with the organization for 2 years or more and weigh less than 80 kg have a higher attendance rate (77.6%) than those who weigh 80 kg or more (66.6%), indicating that `weight` might be a factor influencing attendance, and the lighter group appears more likely to attend compared to the heavier group, at least for long-term members.\n",
    "- The AM session group (time == 'AM') has an attendance rate comparable to the lighter weight group (weight < 80 kg), which suggests that AM sessions might be preferred by certain subgroups of long-term members (perhaps those who are lighter or simply have different preferences for class timing).\n",
    "- There's also the possibility that weight and time of day interact, so individuals with specific weight groups might prefer certain times of the day."
   ]
  },
  {
   "cell_type": "markdown",
   "id": "16950ccc-0d02-4b05-9e95-2022e5bf4212",
   "metadata": {},
   "source": [
    "#### Conclusion\n",
    "While each of the variables may not have strong relationship with whether a member attends, on their own, there are interesting patterns among the variables."
   ]
  },
  {
   "cell_type": "code",
   "execution_count": null,
   "id": "11434e3c-5e33-4fae-8534-7b00268f1866",
   "metadata": {},
   "outputs": [],
   "source": []
  },
  {
   "cell_type": "markdown",
   "id": "c229898d-76b5-46cf-acdf-7b09271186f9",
   "metadata": {},
   "source": [
    "### 5. Training the models, tuning their performance and selecting the best model"
   ]
  },
  {
   "cell_type": "code",
   "execution_count": null,
   "id": "41290a13-f6e9-42c6-8396-dbcf2f169ded",
   "metadata": {},
   "outputs": [],
   "source": []
  },
  {
   "cell_type": "code",
   "execution_count": null,
   "id": "83448eb5-196b-43d2-aa4b-d60d8c65feda",
   "metadata": {},
   "outputs": [],
   "source": []
  },
  {
   "cell_type": "code",
   "execution_count": null,
   "id": "aaa4dd00-51ab-48a9-ace6-d31a8209d0c8",
   "metadata": {},
   "outputs": [],
   "source": []
  },
  {
   "cell_type": "code",
   "execution_count": null,
   "id": "70ec2075-8c4b-40cf-acd3-4faee53d9644",
   "metadata": {},
   "outputs": [],
   "source": []
  },
  {
   "cell_type": "code",
   "execution_count": null,
   "id": "0265fe8d-5c70-4a6e-a6a9-ed89873ca060",
   "metadata": {},
   "outputs": [],
   "source": []
  }
 ],
 "metadata": {
  "kernelspec": {
   "display_name": "Python 3 (ipykernel)",
   "language": "python",
   "name": "python3"
  },
  "language_info": {
   "codemirror_mode": {
    "name": "ipython",
    "version": 3
   },
   "file_extension": ".py",
   "mimetype": "text/x-python",
   "name": "python",
   "nbconvert_exporter": "python",
   "pygments_lexer": "ipython3",
   "version": "3.12.1"
  }
 },
 "nbformat": 4,
 "nbformat_minor": 5
}
