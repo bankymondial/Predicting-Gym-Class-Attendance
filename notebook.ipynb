{
 "cells": [
  {
   "cell_type": "markdown",
   "id": "92cd27fd-0b7a-449d-950f-ec2cdeb0cf80",
   "metadata": {},
   "source": [
    "## Predicting Gym Class Attendance"
   ]
  },
  {
   "cell_type": "markdown",
   "id": "ecc43c11-2c17-40a9-8ff2-86c82894d102",
   "metadata": {},
   "source": [
    "### 1. Data Preparation, Cleaning and Exploratory Data Analysis"
   ]
  },
  {
   "cell_type": "code",
   "execution_count": 1,
   "id": "9215707b-4554-4b80-8979-26b6c87cd89b",
   "metadata": {},
   "outputs": [],
   "source": [
    "import pandas as pd\n",
    "import numpy as np\n",
    "\n",
    "import matplotlib.pyplot as plt\n",
    "import seaborn as sns"
   ]
  },
  {
   "cell_type": "code",
   "execution_count": 2,
   "id": "925a684d-7f1e-4474-95dd-089862b567a3",
   "metadata": {},
   "outputs": [],
   "source": [
    "data = \"https://raw.githubusercontent.com/bankymondial/Predicting-Gym-Class-Attendance/refs/heads/main/fitness_class_2212.csv\""
   ]
  },
  {
   "cell_type": "code",
   "execution_count": 3,
   "id": "74c0594b-62cd-488b-b784-f8f5b5d22a7a",
   "metadata": {},
   "outputs": [],
   "source": [
    "df = pd.read_csv(data)"
   ]
  },
  {
   "cell_type": "code",
   "execution_count": 4,
   "id": "5abd1370-c48b-4d1f-955f-de88c31a1199",
   "metadata": {},
   "outputs": [
    {
     "data": {
      "text/html": [
       "<div>\n",
       "<style scoped>\n",
       "    .dataframe tbody tr th:only-of-type {\n",
       "        vertical-align: middle;\n",
       "    }\n",
       "\n",
       "    .dataframe tbody tr th {\n",
       "        vertical-align: top;\n",
       "    }\n",
       "\n",
       "    .dataframe thead th {\n",
       "        text-align: right;\n",
       "    }\n",
       "</style>\n",
       "<table border=\"1\" class=\"dataframe\">\n",
       "  <thead>\n",
       "    <tr style=\"text-align: right;\">\n",
       "      <th></th>\n",
       "      <th>booking_id</th>\n",
       "      <th>months_as_member</th>\n",
       "      <th>weight</th>\n",
       "      <th>days_before</th>\n",
       "      <th>day_of_week</th>\n",
       "      <th>time</th>\n",
       "      <th>category</th>\n",
       "      <th>attended</th>\n",
       "    </tr>\n",
       "  </thead>\n",
       "  <tbody>\n",
       "    <tr>\n",
       "      <th>0</th>\n",
       "      <td>1</td>\n",
       "      <td>17</td>\n",
       "      <td>79.56</td>\n",
       "      <td>8</td>\n",
       "      <td>Wed</td>\n",
       "      <td>PM</td>\n",
       "      <td>Strength</td>\n",
       "      <td>0</td>\n",
       "    </tr>\n",
       "    <tr>\n",
       "      <th>1</th>\n",
       "      <td>2</td>\n",
       "      <td>10</td>\n",
       "      <td>79.01</td>\n",
       "      <td>2</td>\n",
       "      <td>Mon</td>\n",
       "      <td>AM</td>\n",
       "      <td>HIIT</td>\n",
       "      <td>0</td>\n",
       "    </tr>\n",
       "    <tr>\n",
       "      <th>2</th>\n",
       "      <td>3</td>\n",
       "      <td>16</td>\n",
       "      <td>74.53</td>\n",
       "      <td>14</td>\n",
       "      <td>Sun</td>\n",
       "      <td>AM</td>\n",
       "      <td>Strength</td>\n",
       "      <td>0</td>\n",
       "    </tr>\n",
       "    <tr>\n",
       "      <th>3</th>\n",
       "      <td>4</td>\n",
       "      <td>5</td>\n",
       "      <td>86.12</td>\n",
       "      <td>10</td>\n",
       "      <td>Fri</td>\n",
       "      <td>AM</td>\n",
       "      <td>Cycling</td>\n",
       "      <td>0</td>\n",
       "    </tr>\n",
       "    <tr>\n",
       "      <th>4</th>\n",
       "      <td>5</td>\n",
       "      <td>15</td>\n",
       "      <td>69.29</td>\n",
       "      <td>8</td>\n",
       "      <td>Thu</td>\n",
       "      <td>AM</td>\n",
       "      <td>HIIT</td>\n",
       "      <td>0</td>\n",
       "    </tr>\n",
       "  </tbody>\n",
       "</table>\n",
       "</div>"
      ],
      "text/plain": [
       "   booking_id  months_as_member  weight days_before day_of_week time  \\\n",
       "0           1                17   79.56           8         Wed   PM   \n",
       "1           2                10   79.01           2         Mon   AM   \n",
       "2           3                16   74.53          14         Sun   AM   \n",
       "3           4                 5   86.12          10         Fri   AM   \n",
       "4           5                15   69.29           8         Thu   AM   \n",
       "\n",
       "   category  attended  \n",
       "0  Strength         0  \n",
       "1      HIIT         0  \n",
       "2  Strength         0  \n",
       "3   Cycling         0  \n",
       "4      HIIT         0  "
      ]
     },
     "execution_count": 4,
     "metadata": {},
     "output_type": "execute_result"
    }
   ],
   "source": [
    "df.head()"
   ]
  },
  {
   "cell_type": "code",
   "execution_count": 5,
   "id": "545724b2-8a57-48c2-9e7b-a6d069fde907",
   "metadata": {},
   "outputs": [
    {
     "data": {
      "text/plain": [
       "booking_id            int64\n",
       "months_as_member      int64\n",
       "weight              float64\n",
       "days_before          object\n",
       "day_of_week          object\n",
       "time                 object\n",
       "category             object\n",
       "attended              int64\n",
       "dtype: object"
      ]
     },
     "execution_count": 5,
     "metadata": {},
     "output_type": "execute_result"
    }
   ],
   "source": [
    "df.dtypes"
   ]
  },
  {
   "cell_type": "code",
   "execution_count": 6,
   "id": "ab86354d-2fe8-4a32-8a89-523eed754c8d",
   "metadata": {},
   "outputs": [
    {
     "data": {
      "text/plain": [
       "booking_id           0\n",
       "months_as_member     0\n",
       "weight              20\n",
       "days_before          0\n",
       "day_of_week          0\n",
       "time                 0\n",
       "category             0\n",
       "attended             0\n",
       "dtype: int64"
      ]
     },
     "execution_count": 6,
     "metadata": {},
     "output_type": "execute_result"
    }
   ],
   "source": [
    "df.isna().sum()"
   ]
  },
  {
   "cell_type": "markdown",
   "id": "825df1b9-b8d4-4fb8-b024-af7058142187",
   "metadata": {},
   "source": [
    "#### To replace the missing values in `weight`, it's necessary to explore the distribution of the feature."
   ]
  },
  {
   "cell_type": "code",
   "execution_count": 7,
   "id": "22390a11-aaac-49a7-a81c-919c04918edb",
   "metadata": {},
   "outputs": [
    {
     "data": {
      "image/png": "[encoded data removed]",
      "text/plain": [
       "<Figure size 1000x600 with 1 Axes>"
      ]
     },
     "metadata": {},
     "output_type": "display_data"
    }
   ],
   "source": [
    "plt.figure(figsize=(10, 6))\n",
    "sns.histplot(df['weight'], kde=True, bins=30, color='skyblue')  # KDE (Kernel Density Estimation) adds a smooth line\n",
    "plt.title('Distribution of Weight')\n",
    "plt.xlabel('Weight')\n",
    "plt.ylabel('Frequency')\n",
    "plt.show()"
   ]
  },
  {
   "cell_type": "markdown",
   "id": "b73a2c8f-da00-40bb-aaad-d4e30546f0d0",
   "metadata": {},
   "source": [
    "#### Since the distribution is right-skewed, it's better to impute the missing values with the `median` since it is not affected by outliers or the long tail of the distribution."
   ]
  },
  {
   "cell_type": "code",
   "execution_count": 8,
   "id": "9048176f-bfb5-4fd8-a276-38aed076151a",
   "metadata": {},
   "outputs": [],
   "source": [
    "df.weight = df.weight.fillna(df.weight.median())"
   ]
  },
  {
   "cell_type": "code",
   "execution_count": 9,
   "id": "9778a14d-7ea8-496e-806d-c48d9af95641",
   "metadata": {},
   "outputs": [
    {
     "data": {
      "text/plain": [
       "booking_id          0\n",
       "months_as_member    0\n",
       "weight              0\n",
       "days_before         0\n",
       "day_of_week         0\n",
       "time                0\n",
       "category            0\n",
       "attended            0\n",
       "dtype: int64"
      ]
     },
     "execution_count": 9,
     "metadata": {},
     "output_type": "execute_result"
    }
   ],
   "source": [
    "df.isna().sum()"
   ]
  },
  {
   "cell_type": "code",
   "execution_count": null,
   "id": "d3888be7-fdf1-431b-8b76-376274723f3d",
   "metadata": {},
   "outputs": [],
   "source": []
  },
  {
   "cell_type": "markdown",
   "id": "86125217-7dee-4320-8fb3-6732bfd00399",
   "metadata": {},
   "source": [
    "#### Next, there is a need to delete `booking_id`, convert `days_before` to integers."
   ]
  },
  {
   "cell_type": "code",
   "execution_count": 10,
   "id": "018c582a-05d6-4092-987a-b6298ea4b439",
   "metadata": {},
   "outputs": [],
   "source": [
    "df.drop('booking_id', axis=1, inplace=True)"
   ]
  },
  {
   "cell_type": "code",
   "execution_count": 11,
   "id": "361ecc58-79ff-46d8-aaf5-2e70d8a4578f",
   "metadata": {},
   "outputs": [
    {
     "name": "stdout",
     "output_type": "stream",
     "text": [
      "['8' '2' '14' '10' '6' '4' '9' '12' '5' '3' '7' '13' '12 days' '20' '1'\n",
      " '15' '6 days' '11' '13 days' '3 days' '16' '1 days' '7 days' '8 days'\n",
      " '10 days' '14 days' '17' '5 days' '2 days' '4 days' '29']\n",
      "---------------------\n",
      "object\n"
     ]
    }
   ],
   "source": [
    "print(df.days_before.unique())\n",
    "print(\"---------------------\")\n",
    "print(df.days_before.dtype)"
   ]
  },
  {
   "cell_type": "code",
   "execution_count": 12,
   "id": "a5bd3463-cf7a-46d6-8125-176ccbbef26f",
   "metadata": {},
   "outputs": [],
   "source": [
    "df.days_before = df.days_before.str.replace(r' days$', '', regex=True) # Remove ' days'"
   ]
  },
  {
   "cell_type": "code",
   "execution_count": 13,
   "id": "69f82883-4189-4410-8eff-0e3eac500da3",
   "metadata": {},
   "outputs": [],
   "source": [
    "df.days_before = pd.to_numeric(df.days_before, errors='coerce').astype(int) # Convert the cleaned values to integers"
   ]
  },
  {
   "cell_type": "code",
   "execution_count": 14,
   "id": "ad70703f-ea61-470c-83e8-223cfb23f782",
   "metadata": {},
   "outputs": [
    {
     "data": {
      "text/plain": [
       "months_as_member      int64\n",
       "weight              float64\n",
       "days_before           int64\n",
       "day_of_week          object\n",
       "time                 object\n",
       "category             object\n",
       "attended              int64\n",
       "dtype: object"
      ]
     },
     "execution_count": 14,
     "metadata": {},
     "output_type": "execute_result"
    }
   ],
   "source": [
    "df.dtypes"
   ]
  },
  {
   "cell_type": "code",
   "execution_count": null,
   "id": "79593bcc-fe83-4772-a66e-dc25358dec57",
   "metadata": {},
   "outputs": [],
   "source": []
  },
  {
   "cell_type": "markdown",
   "id": "73e6b236-b001-4ddb-88ae-c601fab50599",
   "metadata": {},
   "source": [
    "#### Then, we need to ensure that all columns have unique values."
   ]
  },
  {
   "cell_type": "code",
   "execution_count": 15,
   "id": "82073913-e6b2-4f97-9439-461d39a8d5da",
   "metadata": {},
   "outputs": [
    {
     "name": "stdout",
     "output_type": "stream",
     "text": [
      "\n",
      "Unique values in each column:\n",
      "months_as_member    [17, 10, 16, 5, 15, 7, 11, 9, 23, 13, 8, 22, 6...\n",
      "weight              [79.56, 79.01, 74.53, 86.12, 69.29, 93.33, 88....\n",
      "days_before         [8, 2, 14, 10, 6, 4, 9, 12, 5, 3, 7, 13, 20, 1...\n",
      "day_of_week         [Wed, Mon, Sun, Fri, Thu, Wednesday, Fri., Tue...\n",
      "time                                                         [PM, AM]\n",
      "category                     [Strength, HIIT, Cycling, Yoga, -, Aqua]\n",
      "attended                                                       [0, 1]\n",
      "dtype: object\n"
     ]
    }
   ],
   "source": [
    "unique_values = df.apply(lambda x: x.unique())\n",
    "print(\"\\nUnique values in each column:\")\n",
    "print(unique_values)"
   ]
  },
  {
   "cell_type": "code",
   "execution_count": 16,
   "id": "520521c0-c874-4f87-b932-29f2db83e6c4",
   "metadata": {},
   "outputs": [],
   "source": [
    "df.day_of_week = df.day_of_week.replace({'Wednesday': 'Wed', 'Monday': 'Mon'})  # Replace 'Wednesday' with 'Wed'\n",
    "df.day_of_week = df.day_of_week.str.replace(r'Fri\\.$', 'Fri', regex=True)  # Use raw string to remove period from 'Fri.'\n",
    "\n",
    "df.category = df.category.replace('-', 'Unknown')  # Replace with \"Unknown\" instead of NaN to prevent information loss"
   ]
  },
  {
   "cell_type": "code",
   "execution_count": 17,
   "id": "fd3c7b83-5b92-45d7-bdce-f04e829aed70",
   "metadata": {},
   "outputs": [
    {
     "data": {
      "text/html": [
       "<div>\n",
       "<style scoped>\n",
       "    .dataframe tbody tr th:only-of-type {\n",
       "        vertical-align: middle;\n",
       "    }\n",
       "\n",
       "    .dataframe tbody tr th {\n",
       "        vertical-align: top;\n",
       "    }\n",
       "\n",
       "    .dataframe thead th {\n",
       "        text-align: right;\n",
       "    }\n",
       "</style>\n",
       "<table border=\"1\" class=\"dataframe\">\n",
       "  <thead>\n",
       "    <tr style=\"text-align: right;\">\n",
       "      <th></th>\n",
       "      <th>months_as_member</th>\n",
       "      <th>weight</th>\n",
       "      <th>days_before</th>\n",
       "      <th>day_of_week</th>\n",
       "      <th>time</th>\n",
       "      <th>category</th>\n",
       "      <th>attended</th>\n",
       "    </tr>\n",
       "  </thead>\n",
       "  <tbody>\n",
       "    <tr>\n",
       "      <th>0</th>\n",
       "      <td>17</td>\n",
       "      <td>79.56</td>\n",
       "      <td>8</td>\n",
       "      <td>Wed</td>\n",
       "      <td>PM</td>\n",
       "      <td>Strength</td>\n",
       "      <td>0</td>\n",
       "    </tr>\n",
       "    <tr>\n",
       "      <th>1</th>\n",
       "      <td>10</td>\n",
       "      <td>79.01</td>\n",
       "      <td>2</td>\n",
       "      <td>Mon</td>\n",
       "      <td>AM</td>\n",
       "      <td>HIIT</td>\n",
       "      <td>0</td>\n",
       "    </tr>\n",
       "    <tr>\n",
       "      <th>2</th>\n",
       "      <td>16</td>\n",
       "      <td>74.53</td>\n",
       "      <td>14</td>\n",
       "      <td>Sun</td>\n",
       "      <td>AM</td>\n",
       "      <td>Strength</td>\n",
       "      <td>0</td>\n",
       "    </tr>\n",
       "    <tr>\n",
       "      <th>3</th>\n",
       "      <td>5</td>\n",
       "      <td>86.12</td>\n",
       "      <td>10</td>\n",
       "      <td>Fri</td>\n",
       "      <td>AM</td>\n",
       "      <td>Cycling</td>\n",
       "      <td>0</td>\n",
       "    </tr>\n",
       "    <tr>\n",
       "      <th>4</th>\n",
       "      <td>15</td>\n",
       "      <td>69.29</td>\n",
       "      <td>8</td>\n",
       "      <td>Thu</td>\n",
       "      <td>AM</td>\n",
       "      <td>HIIT</td>\n",
       "      <td>0</td>\n",
       "    </tr>\n",
       "  </tbody>\n",
       "</table>\n",
       "</div>"
      ],
      "text/plain": [
       "   months_as_member  weight  days_before day_of_week time  category  attended\n",
       "0                17   79.56            8         Wed   PM  Strength         0\n",
       "1                10   79.01            2         Mon   AM      HIIT         0\n",
       "2                16   74.53           14         Sun   AM  Strength         0\n",
       "3                 5   86.12           10         Fri   AM   Cycling         0\n",
       "4                15   69.29            8         Thu   AM      HIIT         0"
      ]
     },
     "execution_count": 17,
     "metadata": {},
     "output_type": "execute_result"
    }
   ],
   "source": [
    "df.head()"
   ]
  },
  {
   "cell_type": "code",
   "execution_count": null,
   "id": "0e8ac306-8c94-4b15-a248-65331dd924ff",
   "metadata": {},
   "outputs": [],
   "source": []
  },
  {
   "cell_type": "markdown",
   "id": "2d241bce-8517-43b1-ada9-9f2c89b3f736",
   "metadata": {},
   "source": [
    "### 2. Splitting the dataset\n",
    " - Performing a 60%/20%/20% splits for training/validation/test datasets respectively"
   ]
  },
  {
   "cell_type": "code",
   "execution_count": 18,
   "id": "093135b6-455c-4b59-9ceb-08d4bd11388c",
   "metadata": {},
   "outputs": [],
   "source": [
    "from sklearn.model_selection import train_test_split\n",
    "\n",
    "df_full_train, df_test = train_test_split(df, test_size=0.2, random_state=1)\n",
    "df_train, df_val = train_test_split(df_full_train, test_size=0.25, random_state=1)"
   ]
  },
  {
   "cell_type": "code",
   "execution_count": 19,
   "id": "9a6c70d6-a4b7-4179-b625-7e4fa4bff7d0",
   "metadata": {},
   "outputs": [],
   "source": [
    "df_train = df_train.reset_index(drop=True)\n",
    "df_val = df_val.reset_index(drop=True)\n",
    "df_test = df_test.reset_index(drop=True)"
   ]
  },
  {
   "cell_type": "code",
   "execution_count": 20,
   "id": "aa313791-44f8-4941-b25c-157bde98013b",
   "metadata": {},
   "outputs": [],
   "source": [
    "y_train = df_train['attended'].values\n",
    "y_val = df_val['attended'].values\n",
    "y_test = df_test['attended'].values"
   ]
  },
  {
   "cell_type": "code",
   "execution_count": 21,
   "id": "1e0eba18-bf33-4887-b72a-3782c35572c5",
   "metadata": {},
   "outputs": [],
   "source": [
    "del df_train['attended']\n",
    "del df_val['attended']\n",
    "del df_test['attended']"
   ]
  },
  {
   "cell_type": "code",
   "execution_count": null,
   "id": "bf4b08a7-fb93-4ec7-af6f-3ad386f9a47e",
   "metadata": {},
   "outputs": [],
   "source": []
  },
  {
   "cell_type": "markdown",
   "id": "3103d394-98e2-492f-a901-48360be3270b",
   "metadata": {},
   "source": [
    "### 4. Feature importance: Mutual information and Correlation\n",
    "- Mutual information tells us how much we can learn about one variable if we know the value of another. In this project, it's a way to measure the importance of categorical variables. - https://en.wikipedia.org/wiki/Mutual_information\n",
    "- A correlation coefficient is a numerical measure of some type of linear correlation, meaning a statistical relationship between two variables. https://en.wikipedia.org/wiki/Correlation_coefficient. It's a way to measure the importance of numerical variables."
   ]
  },
  {
   "cell_type": "markdown",
   "id": "b37e666b-02a7-433c-af1b-500ec0d34820",
   "metadata": {},
   "source": [
    "#### Mutual information"
   ]
  },
  {
   "cell_type": "code",
   "execution_count": 22,
   "id": "dfd5172a-742a-40cc-bd36-051ab17bd91b",
   "metadata": {},
   "outputs": [],
   "source": [
    "numerical = ['months_as_member', 'weight', 'days_before']\n",
    "categorical = ['day_of_week', 'time', 'category']"
   ]
  },
  {
   "cell_type": "code",
   "execution_count": 23,
   "id": "19d072b2-3709-4ba8-9126-9ef32afb24da",
   "metadata": {},
   "outputs": [],
   "source": [
    "from sklearn.metrics import mutual_info_score"
   ]
  },
  {
   "cell_type": "code",
   "execution_count": 24,
   "id": "aeddd7a4-989e-4848-a171-653318e2b9c5",
   "metadata": {},
   "outputs": [],
   "source": [
    "def mutual_info_attended_score(series):\n",
    "    return mutual_info_score(series, df_full_train.attended)"
   ]
  },
  {
   "cell_type": "code",
   "execution_count": 25,
   "id": "d0f3d0b4-8048-44ae-bafb-dd647a3b992c",
   "metadata": {},
   "outputs": [
    {
     "data": {
      "text/plain": [
       "day_of_week    0.002950\n",
       "time           0.001832\n",
       "category       0.001477\n",
       "dtype: float64"
      ]
     },
     "execution_count": 25,
     "metadata": {},
     "output_type": "execute_result"
    }
   ],
   "source": [
    "mi = df_full_train[categorical].apply(mutual_info_attended_score)\n",
    "mi.sort_values(ascending=False)"
   ]
  },
  {
   "cell_type": "markdown",
   "id": "00dcbb7c-9ecb-4943-bf31-4fd8a54b4a5a",
   "metadata": {},
   "source": [
    "#### The low values of mutual information score between the categorical variables and the target variable `attended` implies that the day of the week, time of day nor the fitness class category give little insight into whether a member attended the gym or not."
   ]
  },
  {
   "cell_type": "code",
   "execution_count": null,
   "id": "b6953ee4-605f-4e80-973d-a27199f92096",
   "metadata": {},
   "outputs": [],
   "source": []
  },
  {
   "cell_type": "markdown",
   "id": "3e096761-409c-422f-8274-aec7548e1de7",
   "metadata": {},
   "source": [
    "#### Correlation coefficient"
   ]
  },
  {
   "cell_type": "code",
   "execution_count": 26,
   "id": "f1cffd56-62d6-43ce-8886-9409afeb925a",
   "metadata": {},
   "outputs": [
    {
     "data": {
      "text/plain": [
       "months_as_member    0.495458\n",
       "weight              0.285607\n",
       "days_before         0.028191\n",
       "dtype: float64"
      ]
     },
     "execution_count": 26,
     "metadata": {},
     "output_type": "execute_result"
    }
   ],
   "source": [
    "df_full_train[numerical].corrwith(df_full_train.attended).abs()"
   ]
  },
  {
   "cell_type": "markdown",
   "id": "ac859102-629d-4cd6-8bac-92d1e7395da8",
   "metadata": {},
   "source": [
    "#### The positive values of correlation coefficient implies that the likelihood of attendance increases with increase in each of them but at varying levels.\n",
    "- `months_as_member` has the highest value albeit moderate relationship with attendance.\n",
    "- As a member's `weight` increases, the likelihood of attendance increases but the relationship is weak.\n",
    "- The `days_before` has almost no relationship with whether a person attends the gym."
   ]
  },
  {
   "cell_type": "code",
   "execution_count": null,
   "id": "5ba2b7b8-2e07-4e29-b9e4-adf07b43caff",
   "metadata": {},
   "outputs": [],
   "source": []
  },
  {
   "cell_type": "markdown",
   "id": "906f63b3-4256-4a80-bfae-b61b500764fe",
   "metadata": {},
   "source": [
    "#### Further insights into relationships between the `categorical` and `numerical` variables "
   ]
  },
  {
   "cell_type": "code",
   "execution_count": 27,
   "id": "66ccc4b6-be9a-49a2-94b5-459dc5f74442",
   "metadata": {},
   "outputs": [
    {
     "name": "stdout",
     "output_type": "stream",
     "text": [
      "Overall attendance rate: 0.29583333333333334\n"
     ]
    }
   ],
   "source": [
    "overall_attendance_rate = df_full_train['attended'].mean()\n",
    "print(\"Overall attendance rate:\", overall_attendance_rate)"
   ]
  },
  {
   "cell_type": "code",
   "execution_count": 28,
   "id": "6781a9fb-4c49-4da0-b451-34607507b263",
   "metadata": {},
   "outputs": [
    {
     "data": {
      "text/plain": [
       "np.float64(0.6666666666666666)"
      ]
     },
     "execution_count": 28,
     "metadata": {},
     "output_type": "execute_result"
    }
   ],
   "source": [
    "df_full_train[(df_full_train.months_as_member >= 24) & (df_full_train.weight >= 80)].attended.mean()"
   ]
  },
  {
   "cell_type": "code",
   "execution_count": 29,
   "id": "b231cc25-a4b3-497c-9d69-005ae912ab63",
   "metadata": {},
   "outputs": [
    {
     "data": {
      "text/plain": [
       "np.float64(0.7763975155279503)"
      ]
     },
     "execution_count": 29,
     "metadata": {},
     "output_type": "execute_result"
    }
   ],
   "source": [
    "df_full_train[(df_full_train.months_as_member >= 24) & (df_full_train.weight < 80)].attended.mean()"
   ]
  },
  {
   "cell_type": "code",
   "execution_count": 30,
   "id": "29a48bd4-af60-4105-9efa-b3550f499b12",
   "metadata": {},
   "outputs": [
    {
     "data": {
      "text/plain": [
       "nan"
      ]
     },
     "execution_count": 30,
     "metadata": {},
     "output_type": "execute_result"
    }
   ],
   "source": [
    "df_full_train[(df_full_train.months_as_member >= 24) & (df_full_train.time == 'am')].attended.mean()"
   ]
  },
  {
   "cell_type": "markdown",
   "id": "417aebc2-da67-4016-b757-40bda462279f",
   "metadata": {},
   "source": [
    "#### Implication\n",
    "- Members who have been with the organization for 2 years or more and weigh less than 80 kg have a higher attendance rate (77.6%) than those who weigh 80 kg or more (66.6%), indicating that `weight` might be a factor influencing attendance, and the lighter group appears more likely to attend compared to the heavier group, at least for long-term members.\n",
    "- The AM session group (time == 'AM') has an attendance rate comparable to the lighter weight group (weight < 80 kg), which suggests that AM sessions might be preferred by certain subgroups of long-term members (perhaps those who are lighter or simply have different preferences for class timing).\n",
    "- There's also the possibility that weight and time of day interact, so individuals with specific weight groups might prefer certain times of the day."
   ]
  },
  {
   "cell_type": "markdown",
   "id": "16950ccc-0d02-4b05-9e95-2022e5bf4212",
   "metadata": {},
   "source": [
    "#### Conclusion\n",
    "While each of the variables may not have strong relationship with whether a member attends, on their own, there are interesting patterns among the variables."
   ]
  },
  {
   "cell_type": "code",
   "execution_count": null,
   "id": "11434e3c-5e33-4fae-8534-7b00268f1866",
   "metadata": {},
   "outputs": [],
   "source": []
  },
  {
   "cell_type": "markdown",
   "id": "c229898d-76b5-46cf-acdf-7b09271186f9",
   "metadata": {},
   "source": [
    "### 5. Training the models, tuning their performance and selecting the best model"
   ]
  },
  {
   "cell_type": "code",
   "execution_count": 31,
   "id": "c696ce6f-0e50-43a4-b7d8-05e36960e6c4",
   "metadata": {},
   "outputs": [],
   "source": [
    "from sklearn.feature_extraction import DictVectorizer\n",
    "from sklearn.linear_model import LogisticRegression"
   ]
  },
  {
   "cell_type": "code",
   "execution_count": 32,
   "id": "41290a13-f6e9-42c6-8396-dbcf2f169ded",
   "metadata": {},
   "outputs": [
    {
     "data": {
      "text/html": [
       "<style>#sk-container-id-1 {\n",
       "  /* Definition of color scheme common for light and dark mode */\n",
       "  --sklearn-color-text: black;\n",
       "  --sklearn-color-line: gray;\n",
       "  /* Definition of color scheme for unfitted estimators */\n",
       "  --sklearn-color-unfitted-level-0: #fff5e6;\n",
       "  --sklearn-color-unfitted-level-1: #f6e4d2;\n",
       "  --sklearn-color-unfitted-level-2: #ffe0b3;\n",
       "  --sklearn-color-unfitted-level-3: chocolate;\n",
       "  /* Definition of color scheme for fitted estimators */\n",
       "  --sklearn-color-fitted-level-0: #f0f8ff;\n",
       "  --sklearn-color-fitted-level-1: #d4ebff;\n",
       "  --sklearn-color-fitted-level-2: #b3dbfd;\n",
       "  --sklearn-color-fitted-level-3: cornflowerblue;\n",
       "\n",
       "  /* Specific color for light theme */\n",
       "  --sklearn-color-text-on-default-background: var(--sg-text-color, var(--theme-code-foreground, var(--jp-content-font-color1, black)));\n",
       "  --sklearn-color-background: var(--sg-background-color, var(--theme-background, var(--jp-layout-color0, white)));\n",
       "  --sklearn-color-border-box: var(--sg-text-color, var(--theme-code-foreground, var(--jp-content-font-color1, black)));\n",
       "  --sklearn-color-icon: #696969;\n",
       "\n",
       "  @media (prefers-color-scheme: dark) {\n",
       "    /* Redefinition of color scheme for dark theme */\n",
       "    --sklearn-color-text-on-default-background: var(--sg-text-color, var(--theme-code-foreground, var(--jp-content-font-color1, white)));\n",
       "    --sklearn-color-background: var(--sg-background-color, var(--theme-background, var(--jp-layout-color0, #111)));\n",
       "    --sklearn-color-border-box: var(--sg-text-color, var(--theme-code-foreground, var(--jp-content-font-color1, white)));\n",
       "    --sklearn-color-icon: #878787;\n",
       "  }\n",
       "}\n",
       "\n",
       "#sk-container-id-1 {\n",
       "  color: var(--sklearn-color-text);\n",
       "}\n",
       "\n",
       "#sk-container-id-1 pre {\n",
       "  padding: 0;\n",
       "}\n",
       "\n",
       "#sk-container-id-1 input.sk-hidden--visually {\n",
       "  border: 0;\n",
       "  clip: rect(1px 1px 1px 1px);\n",
       "  clip: rect(1px, 1px, 1px, 1px);\n",
       "  height: 1px;\n",
       "  margin: -1px;\n",
       "  overflow: hidden;\n",
       "  padding: 0;\n",
       "  position: absolute;\n",
       "  width: 1px;\n",
       "}\n",
       "\n",
       "#sk-container-id-1 div.sk-dashed-wrapped {\n",
       "  border: 1px dashed var(--sklearn-color-line);\n",
       "  margin: 0 0.4em 0.5em 0.4em;\n",
       "  box-sizing: border-box;\n",
       "  padding-bottom: 0.4em;\n",
       "  background-color: var(--sklearn-color-background);\n",
       "}\n",
       "\n",
       "#sk-container-id-1 div.sk-container {\n",
       "  /* jupyter's `normalize.less` sets `[hidden] { display: none; }`\n",
       "     but bootstrap.min.css set `[hidden] { display: none !important; }`\n",
       "     so we also need the `!important` here to be able to override the\n",
       "     default hidden behavior on the sphinx rendered scikit-learn.org.\n",
       "     See: https://github.com/scikit-learn/scikit-learn/issues/21755 */\n",
       "  display: inline-block !important;\n",
       "  position: relative;\n",
       "}\n",
       "\n",
       "#sk-container-id-1 div.sk-text-repr-fallback {\n",
       "  display: none;\n",
       "}\n",
       "\n",
       "div.sk-parallel-item,\n",
       "div.sk-serial,\n",
       "div.sk-item {\n",
       "  /* draw centered vertical line to link estimators */\n",
       "  background-image: linear-gradient(var(--sklearn-color-text-on-default-background), var(--sklearn-color-text-on-default-background));\n",
       "  background-size: 2px 100%;\n",
       "  background-repeat: no-repeat;\n",
       "  background-position: center center;\n",
       "}\n",
       "\n",
       "/* Parallel-specific style estimator block */\n",
       "\n",
       "#sk-container-id-1 div.sk-parallel-item::after {\n",
       "  content: \"\";\n",
       "  width: 100%;\n",
       "  border-bottom: 2px solid var(--sklearn-color-text-on-default-background);\n",
       "  flex-grow: 1;\n",
       "}\n",
       "\n",
       "#sk-container-id-1 div.sk-parallel {\n",
       "  display: flex;\n",
       "  align-items: stretch;\n",
       "  justify-content: center;\n",
       "  background-color: var(--sklearn-color-background);\n",
       "  position: relative;\n",
       "}\n",
       "\n",
       "#sk-container-id-1 div.sk-parallel-item {\n",
       "  display: flex;\n",
       "  flex-direction: column;\n",
       "}\n",
       "\n",
       "#sk-container-id-1 div.sk-parallel-item:first-child::after {\n",
       "  align-self: flex-end;\n",
       "  width: 50%;\n",
       "}\n",
       "\n",
       "#sk-container-id-1 div.sk-parallel-item:last-child::after {\n",
       "  align-self: flex-start;\n",
       "  width: 50%;\n",
       "}\n",
       "\n",
       "#sk-container-id-1 div.sk-parallel-item:only-child::after {\n",
       "  width: 0;\n",
       "}\n",
       "\n",
       "/* Serial-specific style estimator block */\n",
       "\n",
       "#sk-container-id-1 div.sk-serial {\n",
       "  display: flex;\n",
       "  flex-direction: column;\n",
       "  align-items: center;\n",
       "  background-color: var(--sklearn-color-background);\n",
       "  padding-right: 1em;\n",
       "  padding-left: 1em;\n",
       "}\n",
       "\n",
       "\n",
       "/* Toggleable style: style used for estimator/Pipeline/ColumnTransformer box that is\n",
       "clickable and can be expanded/collapsed.\n",
       "- Pipeline and ColumnTransformer use this feature and define the default style\n",
       "- Estimators will overwrite some part of the style using the `sk-estimator` class\n",
       "*/\n",
       "\n",
       "/* Pipeline and ColumnTransformer style (default) */\n",
       "\n",
       "#sk-container-id-1 div.sk-toggleable {\n",
       "  /* Default theme specific background. It is overwritten whether we have a\n",
       "  specific estimator or a Pipeline/ColumnTransformer */\n",
       "  background-color: var(--sklearn-color-background);\n",
       "}\n",
       "\n",
       "/* Toggleable label */\n",
       "#sk-container-id-1 label.sk-toggleable__label {\n",
       "  cursor: pointer;\n",
       "  display: block;\n",
       "  width: 100%;\n",
       "  margin-bottom: 0;\n",
       "  padding: 0.5em;\n",
       "  box-sizing: border-box;\n",
       "  text-align: center;\n",
       "}\n",
       "\n",
       "#sk-container-id-1 label.sk-toggleable__label-arrow:before {\n",
       "  /* Arrow on the left of the label */\n",
       "  content: \"▸\";\n",
       "  float: left;\n",
       "  margin-right: 0.25em;\n",
       "  color: var(--sklearn-color-icon);\n",
       "}\n",
       "\n",
       "#sk-container-id-1 label.sk-toggleable__label-arrow:hover:before {\n",
       "  color: var(--sklearn-color-text);\n",
       "}\n",
       "\n",
       "/* Toggleable content - dropdown */\n",
       "\n",
       "#sk-container-id-1 div.sk-toggleable__content {\n",
       "  max-height: 0;\n",
       "  max-width: 0;\n",
       "  overflow: hidden;\n",
       "  text-align: left;\n",
       "  /* unfitted */\n",
       "  background-color: var(--sklearn-color-unfitted-level-0);\n",
       "}\n",
       "\n",
       "#sk-container-id-1 div.sk-toggleable__content.fitted {\n",
       "  /* fitted */\n",
       "  background-color: var(--sklearn-color-fitted-level-0);\n",
       "}\n",
       "\n",
       "#sk-container-id-1 div.sk-toggleable__content pre {\n",
       "  margin: 0.2em;\n",
       "  border-radius: 0.25em;\n",
       "  color: var(--sklearn-color-text);\n",
       "  /* unfitted */\n",
       "  background-color: var(--sklearn-color-unfitted-level-0);\n",
       "}\n",
       "\n",
       "#sk-container-id-1 div.sk-toggleable__content.fitted pre {\n",
       "  /* unfitted */\n",
       "  background-color: var(--sklearn-color-fitted-level-0);\n",
       "}\n",
       "\n",
       "#sk-container-id-1 input.sk-toggleable__control:checked~div.sk-toggleable__content {\n",
       "  /* Expand drop-down */\n",
       "  max-height: 200px;\n",
       "  max-width: 100%;\n",
       "  overflow: auto;\n",
       "}\n",
       "\n",
       "#sk-container-id-1 input.sk-toggleable__control:checked~label.sk-toggleable__label-arrow:before {\n",
       "  content: \"▾\";\n",
       "}\n",
       "\n",
       "/* Pipeline/ColumnTransformer-specific style */\n",
       "\n",
       "#sk-container-id-1 div.sk-label input.sk-toggleable__control:checked~label.sk-toggleable__label {\n",
       "  color: var(--sklearn-color-text);\n",
       "  background-color: var(--sklearn-color-unfitted-level-2);\n",
       "}\n",
       "\n",
       "#sk-container-id-1 div.sk-label.fitted input.sk-toggleable__control:checked~label.sk-toggleable__label {\n",
       "  background-color: var(--sklearn-color-fitted-level-2);\n",
       "}\n",
       "\n",
       "/* Estimator-specific style */\n",
       "\n",
       "/* Colorize estimator box */\n",
       "#sk-container-id-1 div.sk-estimator input.sk-toggleable__control:checked~label.sk-toggleable__label {\n",
       "  /* unfitted */\n",
       "  background-color: var(--sklearn-color-unfitted-level-2);\n",
       "}\n",
       "\n",
       "#sk-container-id-1 div.sk-estimator.fitted input.sk-toggleable__control:checked~label.sk-toggleable__label {\n",
       "  /* fitted */\n",
       "  background-color: var(--sklearn-color-fitted-level-2);\n",
       "}\n",
       "\n",
       "#sk-container-id-1 div.sk-label label.sk-toggleable__label,\n",
       "#sk-container-id-1 div.sk-label label {\n",
       "  /* The background is the default theme color */\n",
       "  color: var(--sklearn-color-text-on-default-background);\n",
       "}\n",
       "\n",
       "/* On hover, darken the color of the background */\n",
       "#sk-container-id-1 div.sk-label:hover label.sk-toggleable__label {\n",
       "  color: var(--sklearn-color-text);\n",
       "  background-color: var(--sklearn-color-unfitted-level-2);\n",
       "}\n",
       "\n",
       "/* Label box, darken color on hover, fitted */\n",
       "#sk-container-id-1 div.sk-label.fitted:hover label.sk-toggleable__label.fitted {\n",
       "  color: var(--sklearn-color-text);\n",
       "  background-color: var(--sklearn-color-fitted-level-2);\n",
       "}\n",
       "\n",
       "/* Estimator label */\n",
       "\n",
       "#sk-container-id-1 div.sk-label label {\n",
       "  font-family: monospace;\n",
       "  font-weight: bold;\n",
       "  display: inline-block;\n",
       "  line-height: 1.2em;\n",
       "}\n",
       "\n",
       "#sk-container-id-1 div.sk-label-container {\n",
       "  text-align: center;\n",
       "}\n",
       "\n",
       "/* Estimator-specific */\n",
       "#sk-container-id-1 div.sk-estimator {\n",
       "  font-family: monospace;\n",
       "  border: 1px dotted var(--sklearn-color-border-box);\n",
       "  border-radius: 0.25em;\n",
       "  box-sizing: border-box;\n",
       "  margin-bottom: 0.5em;\n",
       "  /* unfitted */\n",
       "  background-color: var(--sklearn-color-unfitted-level-0);\n",
       "}\n",
       "\n",
       "#sk-container-id-1 div.sk-estimator.fitted {\n",
       "  /* fitted */\n",
       "  background-color: var(--sklearn-color-fitted-level-0);\n",
       "}\n",
       "\n",
       "/* on hover */\n",
       "#sk-container-id-1 div.sk-estimator:hover {\n",
       "  /* unfitted */\n",
       "  background-color: var(--sklearn-color-unfitted-level-2);\n",
       "}\n",
       "\n",
       "#sk-container-id-1 div.sk-estimator.fitted:hover {\n",
       "  /* fitted */\n",
       "  background-color: var(--sklearn-color-fitted-level-2);\n",
       "}\n",
       "\n",
       "/* Specification for estimator info (e.g. \"i\" and \"?\") */\n",
       "\n",
       "/* Common style for \"i\" and \"?\" */\n",
       "\n",
       ".sk-estimator-doc-link,\n",
       "a:link.sk-estimator-doc-link,\n",
       "a:visited.sk-estimator-doc-link {\n",
       "  float: right;\n",
       "  font-size: smaller;\n",
       "  line-height: 1em;\n",
       "  font-family: monospace;\n",
       "  background-color: var(--sklearn-color-background);\n",
       "  border-radius: 1em;\n",
       "  height: 1em;\n",
       "  width: 1em;\n",
       "  text-decoration: none !important;\n",
       "  margin-left: 1ex;\n",
       "  /* unfitted */\n",
       "  border: var(--sklearn-color-unfitted-level-1) 1pt solid;\n",
       "  color: var(--sklearn-color-unfitted-level-1);\n",
       "}\n",
       "\n",
       ".sk-estimator-doc-link.fitted,\n",
       "a:link.sk-estimator-doc-link.fitted,\n",
       "a:visited.sk-estimator-doc-link.fitted {\n",
       "  /* fitted */\n",
       "  border: var(--sklearn-color-fitted-level-1) 1pt solid;\n",
       "  color: var(--sklearn-color-fitted-level-1);\n",
       "}\n",
       "\n",
       "/* On hover */\n",
       "div.sk-estimator:hover .sk-estimator-doc-link:hover,\n",
       ".sk-estimator-doc-link:hover,\n",
       "div.sk-label-container:hover .sk-estimator-doc-link:hover,\n",
       ".sk-estimator-doc-link:hover {\n",
       "  /* unfitted */\n",
       "  background-color: var(--sklearn-color-unfitted-level-3);\n",
       "  color: var(--sklearn-color-background);\n",
       "  text-decoration: none;\n",
       "}\n",
       "\n",
       "div.sk-estimator.fitted:hover .sk-estimator-doc-link.fitted:hover,\n",
       ".sk-estimator-doc-link.fitted:hover,\n",
       "div.sk-label-container:hover .sk-estimator-doc-link.fitted:hover,\n",
       ".sk-estimator-doc-link.fitted:hover {\n",
       "  /* fitted */\n",
       "  background-color: var(--sklearn-color-fitted-level-3);\n",
       "  color: var(--sklearn-color-background);\n",
       "  text-decoration: none;\n",
       "}\n",
       "\n",
       "/* Span, style for the box shown on hovering the info icon */\n",
       ".sk-estimator-doc-link span {\n",
       "  display: none;\n",
       "  z-index: 9999;\n",
       "  position: relative;\n",
       "  font-weight: normal;\n",
       "  right: .2ex;\n",
       "  padding: .5ex;\n",
       "  margin: .5ex;\n",
       "  width: min-content;\n",
       "  min-width: 20ex;\n",
       "  max-width: 50ex;\n",
       "  color: var(--sklearn-color-text);\n",
       "  box-shadow: 2pt 2pt 4pt #999;\n",
       "  /* unfitted */\n",
       "  background: var(--sklearn-color-unfitted-level-0);\n",
       "  border: .5pt solid var(--sklearn-color-unfitted-level-3);\n",
       "}\n",
       "\n",
       ".sk-estimator-doc-link.fitted span {\n",
       "  /* fitted */\n",
       "  background: var(--sklearn-color-fitted-level-0);\n",
       "  border: var(--sklearn-color-fitted-level-3);\n",
       "}\n",
       "\n",
       ".sk-estimator-doc-link:hover span {\n",
       "  display: block;\n",
       "}\n",
       "\n",
       "/* \"?\"-specific style due to the `<a>` HTML tag */\n",
       "\n",
       "#sk-container-id-1 a.estimator_doc_link {\n",
       "  float: right;\n",
       "  font-size: 1rem;\n",
       "  line-height: 1em;\n",
       "  font-family: monospace;\n",
       "  background-color: var(--sklearn-color-background);\n",
       "  border-radius: 1rem;\n",
       "  height: 1rem;\n",
       "  width: 1rem;\n",
       "  text-decoration: none;\n",
       "  /* unfitted */\n",
       "  color: var(--sklearn-color-unfitted-level-1);\n",
       "  border: var(--sklearn-color-unfitted-level-1) 1pt solid;\n",
       "}\n",
       "\n",
       "#sk-container-id-1 a.estimator_doc_link.fitted {\n",
       "  /* fitted */\n",
       "  border: var(--sklearn-color-fitted-level-1) 1pt solid;\n",
       "  color: var(--sklearn-color-fitted-level-1);\n",
       "}\n",
       "\n",
       "/* On hover */\n",
       "#sk-container-id-1 a.estimator_doc_link:hover {\n",
       "  /* unfitted */\n",
       "  background-color: var(--sklearn-color-unfitted-level-3);\n",
       "  color: var(--sklearn-color-background);\n",
       "  text-decoration: none;\n",
       "}\n",
       "\n",
       "#sk-container-id-1 a.estimator_doc_link.fitted:hover {\n",
       "  /* fitted */\n",
       "  background-color: var(--sklearn-color-fitted-level-3);\n",
       "}\n",
       "</style><div id=\"sk-container-id-1\" class=\"sk-top-container\"><div class=\"sk-text-repr-fallback\"><pre>LogisticRegression(random_state=1, solver=&#x27;liblinear&#x27;)</pre><b>In a Jupyter environment, please rerun this cell to show the HTML representation or trust the notebook. <br />On GitHub, the HTML representation is unable to render, please try loading this page with nbviewer.org.</b></div><div class=\"sk-container\" hidden><div class=\"sk-item\"><div class=\"sk-estimator fitted sk-toggleable\"><input class=\"sk-toggleable__control sk-hidden--visually\" id=\"sk-estimator-id-1\" type=\"checkbox\" checked><label for=\"sk-estimator-id-1\" class=\"sk-toggleable__label fitted sk-toggleable__label-arrow fitted\">&nbsp;&nbsp;LogisticRegression<a class=\"sk-estimator-doc-link fitted\" rel=\"noreferrer\" target=\"_blank\" href=\"https://scikit-learn.org/1.5/modules/generated/sklearn.linear_model.LogisticRegression.html\">?<span>Documentation for LogisticRegression</span></a><span class=\"sk-estimator-doc-link fitted\">i<span>Fitted</span></span></label><div class=\"sk-toggleable__content fitted\"><pre>LogisticRegression(random_state=1, solver=&#x27;liblinear&#x27;)</pre></div> </div></div></div></div>"
      ],
      "text/plain": [
       "LogisticRegression(random_state=1, solver='liblinear')"
      ]
     },
     "execution_count": 32,
     "metadata": {},
     "output_type": "execute_result"
    }
   ],
   "source": [
    "dv = DictVectorizer(sparse=False)\n",
    "\n",
    "train_dicts = df_train[categorical + numerical].to_dict(orient='records')\n",
    "X_train = dv.fit_transform(train_dicts)\n",
    "\n",
    "model = LogisticRegression(solver='liblinear', random_state=1)\n",
    "model.fit(X_train, y_train)"
   ]
  },
  {
   "cell_type": "code",
   "execution_count": 33,
   "id": "83448eb5-196b-43d2-aa4b-d60d8c65feda",
   "metadata": {},
   "outputs": [
    {
     "data": {
      "text/plain": [
       "np.float64(0.78)"
      ]
     },
     "execution_count": 33,
     "metadata": {},
     "output_type": "execute_result"
    }
   ],
   "source": [
    "val_dicts = df_val[categorical + numerical].to_dict(orient='records')\n",
    "X_val = dv.transform(val_dicts)\n",
    "\n",
    "y_pred = model.predict_proba(X_val)[:, 1]\n",
    "attendance_decision = (y_pred >= 0.5)\n",
    "(y_val == attendance_decision).mean()"
   ]
  },
  {
   "cell_type": "code",
   "execution_count": null,
   "id": "68df1f4e-8122-49e7-8051-06da589cdb84",
   "metadata": {},
   "outputs": [],
   "source": []
  },
  {
   "cell_type": "markdown",
   "id": "b4750471-15d8-4d36-be6c-292835967ffb",
   "metadata": {},
   "source": [
    "#### 5a. Accuracy and dummy model\n",
    "- Evaluating the model on different thresholds\n",
    "- Checking the accuracy on dummy baselines"
   ]
  },
  {
   "cell_type": "code",
   "execution_count": 34,
   "id": "0265fe8d-5c70-4a6e-a6a9-ed89873ca060",
   "metadata": {},
   "outputs": [],
   "source": [
    "from sklearn.metrics import accuracy_score"
   ]
  },
  {
   "cell_type": "code",
   "execution_count": 35,
   "id": "e04f064a-7e57-4ed1-a1dd-ea304d62c5e9",
   "metadata": {},
   "outputs": [
    {
     "data": {
      "text/plain": [
       "0.78"
      ]
     },
     "execution_count": 35,
     "metadata": {},
     "output_type": "execute_result"
    }
   ],
   "source": [
    "accuracy_score(y_val, y_pred >= 0.5)"
   ]
  },
  {
   "cell_type": "code",
   "execution_count": 36,
   "id": "391069e5-a997-4a73-a021-21cb769cb599",
   "metadata": {},
   "outputs": [
    {
     "name": "stdout",
     "output_type": "stream",
     "text": [
      "0.00 0.350\n",
      "0.05 0.363\n",
      "0.10 0.487\n",
      "0.15 0.627\n",
      "0.20 0.727\n",
      "0.25 0.757\n",
      "0.30 0.773\n",
      "0.35 0.773\n",
      "0.40 0.763\n",
      "0.45 0.790\n",
      "0.50 0.780\n",
      "0.55 0.770\n",
      "0.60 0.760\n",
      "0.65 0.753\n",
      "0.70 0.747\n",
      "0.75 0.733\n",
      "0.80 0.730\n",
      "0.85 0.730\n",
      "0.90 0.710\n",
      "0.95 0.700\n",
      "1.00 0.650\n"
     ]
    }
   ],
   "source": [
    "thresholds = np.linspace(0, 1, 21)\n",
    "\n",
    "scores = []\n",
    "\n",
    "for t in thresholds:\n",
    "    score = accuracy_score(y_val, y_pred >= t)\n",
    "    print('%.2f %.3f' % (t, score))\n",
    "    scores.append(score)"
   ]
  },
  {
   "cell_type": "code",
   "execution_count": 37,
   "id": "7ab9b994-e927-4ed3-974c-baee8e0efc23",
   "metadata": {},
   "outputs": [
    {
     "data": {
      "text/plain": [
       "[<matplotlib.lines.Line2D at 0x7aefff43a3f0>]"
      ]
     },
     "execution_count": 37,
     "metadata": {},
     "output_type": "execute_result"
    },
    {
     "data": {
      "image/png": "[encoded data removed]",
      "text/plain": [
       "<Figure size 640x480 with 1 Axes>"
      ]
     },
     "metadata": {},
     "output_type": "display_data"
    }
   ],
   "source": [
    "plt.plot(thresholds, scores)"
   ]
  },
  {
   "cell_type": "code",
   "execution_count": 38,
   "id": "a4f3e2a9-3ea7-4629-b187-9a55cfc4e9b5",
   "metadata": {},
   "outputs": [],
   "source": [
    "from collections import Counter"
   ]
  },
  {
   "cell_type": "code",
   "execution_count": 39,
   "id": "4f557533-af82-440e-8146-92b31e94cd02",
   "metadata": {},
   "outputs": [
    {
     "data": {
      "text/plain": [
       "Counter({np.False_: 300})"
      ]
     },
     "execution_count": 39,
     "metadata": {},
     "output_type": "execute_result"
    }
   ],
   "source": [
    "Counter(y_pred >= 1.0)"
   ]
  },
  {
   "cell_type": "code",
   "execution_count": 40,
   "id": "9f4410d5-3e9d-450e-9903-311feaa59dd6",
   "metadata": {},
   "outputs": [
    {
     "data": {
      "text/plain": [
       "Counter({np.int64(0): 195, np.int64(1): 105})"
      ]
     },
     "execution_count": 40,
     "metadata": {},
     "output_type": "execute_result"
    }
   ],
   "source": [
    "Counter(y_val)"
   ]
  },
  {
   "cell_type": "code",
   "execution_count": 41,
   "id": "a51df343-9f15-4449-9fa1-80aaf8048047",
   "metadata": {},
   "outputs": [
    {
     "data": {
      "text/plain": [
       "np.float64(0.65)"
      ]
     },
     "execution_count": 41,
     "metadata": {},
     "output_type": "execute_result"
    }
   ],
   "source": [
    "1 - y_val.mean()"
   ]
  },
  {
   "cell_type": "markdown",
   "id": "72cfbb47-6ab0-48c1-a960-38263b2ed323",
   "metadata": {},
   "source": [
    "#### A value of 0.65 implies that 65% of the data is negative (members that do not attend the class) while 35% of the data is positive (members that attend the class), signifying *class imbalance*. The model will do well at predicting whether a member does not attend the class but poorly at whether a member does attend the class, which is the problem we're trying to solve."
   ]
  },
  {
   "cell_type": "code",
   "execution_count": null,
   "id": "19336d73-36d3-4b1d-af31-c316f2ba56e9",
   "metadata": {},
   "outputs": [],
   "source": []
  },
  {
   "cell_type": "markdown",
   "id": "f5f9cc97-08c6-40e1-8afa-27f895e5dde5",
   "metadata": {},
   "source": [
    "#### To estimate model performance due to class imbalance, there is a need to compute precision (and confusion matrix before that), recall, F1-score, ROC-AUC and cross-validation."
   ]
  },
  {
   "cell_type": "code",
   "execution_count": 42,
   "id": "792d3dc1-5c3f-48fe-88bb-d2b99f5c9a81",
   "metadata": {},
   "outputs": [],
   "source": [
    "actual_positive = (y_val == 1)\n",
    "actual_negative = (y_val == 0)"
   ]
  },
  {
   "cell_type": "code",
   "execution_count": 43,
   "id": "5a898bfd-545b-4b61-a595-63110bd380c7",
   "metadata": {},
   "outputs": [],
   "source": [
    "t= 0.5\n",
    "predict_positive = (y_pred >= t)\n",
    "predict_negative = (y_pred < t)"
   ]
  },
  {
   "cell_type": "code",
   "execution_count": 44,
   "id": "cb47bcf7-ed0b-45db-8dce-76835ed4a20b",
   "metadata": {},
   "outputs": [],
   "source": [
    "tp = (predict_positive & actual_positive).sum() #tp is true positive: correctly predicted attendance instances\n",
    "tn = (predict_negative & actual_negative).sum() #tn is true negative: correctly predicted no-attendance instance"
   ]
  },
  {
   "cell_type": "code",
   "execution_count": 45,
   "id": "8c6f36ec-da8f-4285-9780-74b69283e226",
   "metadata": {},
   "outputs": [
    {
     "data": {
      "text/plain": [
       "(np.int64(48), np.int64(186))"
      ]
     },
     "execution_count": 45,
     "metadata": {},
     "output_type": "execute_result"
    }
   ],
   "source": [
    "tp, tn"
   ]
  },
  {
   "cell_type": "code",
   "execution_count": 46,
   "id": "69f1eb70-8a4b-45c2-8426-bf829614d1a6",
   "metadata": {},
   "outputs": [],
   "source": [
    "fp = (predict_positive & actual_negative).sum() #fp is false positive: incorrectly predicted attendance instances\n",
    "fn = (predict_negative & actual_positive).sum() #fn is false negative: incorrectly predicted no-attendance instance"
   ]
  },
  {
   "cell_type": "code",
   "execution_count": 47,
   "id": "3ca07a22-fa6f-45cc-9f5a-675a9483ce15",
   "metadata": {},
   "outputs": [
    {
     "data": {
      "text/plain": [
       "(np.int64(9), np.int64(57))"
      ]
     },
     "execution_count": 47,
     "metadata": {},
     "output_type": "execute_result"
    }
   ],
   "source": [
    "fp, fn"
   ]
  },
  {
   "cell_type": "code",
   "execution_count": 48,
   "id": "3e41a4dc-6f66-49a5-85a9-afae7df2d218",
   "metadata": {},
   "outputs": [
    {
     "data": {
      "text/plain": [
       "array([[186,   9],\n",
       "       [ 57,  48]])"
      ]
     },
     "execution_count": 48,
     "metadata": {},
     "output_type": "execute_result"
    }
   ],
   "source": [
    "confusion_matrix = np.array([\n",
    "    [tn, fp],\n",
    "    [fn, tp]]\n",
    ")\n",
    "confusion_matrix"
   ]
  },
  {
   "cell_type": "code",
   "execution_count": 49,
   "id": "17feaaf6-6ef9-4dcf-9839-678d8300ad0e",
   "metadata": {},
   "outputs": [
    {
     "data": {
      "text/plain": [
       "array([[0.62, 0.03],\n",
       "       [0.19, 0.16]])"
      ]
     },
     "execution_count": 49,
     "metadata": {},
     "output_type": "execute_result"
    }
   ],
   "source": [
    "(confusion_matrix / confusion_matrix.sum()).round(2) #confusion matric represented in proportion terms."
   ]
  },
  {
   "cell_type": "code",
   "execution_count": null,
   "id": "bdb6e116-2159-4767-ac68-43c272c278d3",
   "metadata": {},
   "outputs": [],
   "source": []
  },
  {
   "cell_type": "markdown",
   "id": "6fc91b43-8ef0-4852-b2a5-794f518c04f3",
   "metadata": {},
   "source": [
    "#### 5b. Precision and Recall"
   ]
  },
  {
   "cell_type": "code",
   "execution_count": 50,
   "id": "34ce388b-2ae1-4eda-98bc-f9ba6b8b9b7e",
   "metadata": {},
   "outputs": [
    {
     "data": {
      "text/plain": [
       "np.float64(0.78)"
      ]
     },
     "execution_count": 50,
     "metadata": {},
     "output_type": "execute_result"
    }
   ],
   "source": [
    "Accuracy = (tp + tn) / (tp + tn + fp + fn)\n",
    "Accuracy"
   ]
  },
  {
   "cell_type": "markdown",
   "id": "4b6c183c-8ba1-40bd-91de-336d0feb1dba",
   "metadata": {},
   "source": [
    "##### Precision is the fraction of positive predictions (members that are predicted to attend the class) are correct"
   ]
  },
  {
   "cell_type": "code",
   "execution_count": 51,
   "id": "6a1d6f47-8c20-4182-95dd-ac47798732d5",
   "metadata": {},
   "outputs": [
    {
     "data": {
      "text/plain": [
       "np.float64(0.8421052631578947)"
      ]
     },
     "execution_count": 51,
     "metadata": {},
     "output_type": "execute_result"
    }
   ],
   "source": [
    "p = tp / (tp + fp)\n",
    "p"
   ]
  },
  {
   "cell_type": "markdown",
   "id": "fe737f50-f4b2-457d-968a-f5e435651282",
   "metadata": {},
   "source": [
    "##### Recall is the fraction of correctly identified positive predictions"
   ]
  },
  {
   "cell_type": "code",
   "execution_count": 52,
   "id": "ab8cb7a9-3110-4bfc-b39b-22920c4f0a8c",
   "metadata": {},
   "outputs": [
    {
     "data": {
      "text/plain": [
       "np.float64(0.45714285714285713)"
      ]
     },
     "execution_count": 52,
     "metadata": {},
     "output_type": "execute_result"
    }
   ],
   "source": [
    "r = tp / (tp + fn)\n",
    "r"
   ]
  },
  {
   "cell_type": "markdown",
   "id": "efc8db9d-257f-44e3-bf77-8ec154c53836",
   "metadata": {},
   "source": [
    "##### A score of 0.457 implies that the model only correctly identifies 45.7% of gym class attendees, meaning that false negatives are relatively high."
   ]
  },
  {
   "cell_type": "code",
   "execution_count": null,
   "id": "39aa14e0-c47b-4cbd-ba24-7fdff265a2b8",
   "metadata": {},
   "outputs": [],
   "source": []
  },
  {
   "cell_type": "markdown",
   "id": "9fc9ae48-3ef9-403c-8eb7-b1bc3151f365",
   "metadata": {},
   "source": [
    "#### 5c. F1 score\n",
    "- a performance metric that combines precision and recall into a single score."
   ]
  },
  {
   "cell_type": "code",
   "execution_count": 53,
   "id": "256409ce-3de2-4f71-899d-225b03fe725e",
   "metadata": {},
   "outputs": [
    {
     "data": {
      "text/plain": [
       "np.float64(0.5925925925925926)"
      ]
     },
     "execution_count": 53,
     "metadata": {},
     "output_type": "execute_result"
    }
   ],
   "source": [
    "F1_score = (2 * p * r) / (p + r)\n",
    "F1_score"
   ]
  },
  {
   "cell_type": "markdown",
   "id": "e6827618-c6a7-491c-be2e-2e4ea8d9b834",
   "metadata": {},
   "source": [
    "##### A score of 0.593 means that the model ios performing moderately and there is room for improvement."
   ]
  },
  {
   "cell_type": "code",
   "execution_count": null,
   "id": "a8b7f335-fe02-47e4-8bf0-d279edfafb6c",
   "metadata": {},
   "outputs": [],
   "source": []
  },
  {
   "cell_type": "markdown",
   "id": "4fa023bf-6c7e-432b-85b5-66a92e96cb90",
   "metadata": {},
   "source": [
    "#### 5d. ROC AUC"
   ]
  },
  {
   "cell_type": "code",
   "execution_count": 54,
   "id": "b127997d-489c-46f4-a45a-3136a2603347",
   "metadata": {},
   "outputs": [],
   "source": [
    "from sklearn.metrics import roc_auc_score"
   ]
  },
  {
   "cell_type": "code",
   "execution_count": 55,
   "id": "28195f58-e9e4-4100-99e4-bf131f98698b",
   "metadata": {},
   "outputs": [
    {
     "data": {
      "text/plain": [
       "np.float64(0.45714285714285713)"
      ]
     },
     "execution_count": 55,
     "metadata": {},
     "output_type": "execute_result"
    }
   ],
   "source": [
    "tpr = tp / (tp + fn)\n",
    "tpr                             # same as recall"
   ]
  },
  {
   "cell_type": "code",
   "execution_count": 56,
   "id": "c05e1cf1-dec4-4979-9236-a19ce70f5961",
   "metadata": {},
   "outputs": [
    {
     "data": {
      "text/plain": [
       "np.float64(0.046153846153846156)"
      ]
     },
     "execution_count": 56,
     "metadata": {},
     "output_type": "execute_result"
    }
   ],
   "source": [
    "fpr = fp / (fp + tn)\n",
    "fpr"
   ]
  },
  {
   "cell_type": "code",
   "execution_count": 57,
   "id": "c8b13227-9015-4629-ac9e-132dd68ad0f2",
   "metadata": {},
   "outputs": [
    {
     "data": {
      "text/plain": [
       "np.float64(0.8364835164835165)"
      ]
     },
     "execution_count": 57,
     "metadata": {},
     "output_type": "execute_result"
    }
   ],
   "source": [
    "roc_auc_score(y_val, y_pred)"
   ]
  },
  {
   "cell_type": "markdown",
   "id": "00f33fba-9bca-4273-88f6-2d71ae0910af",
   "metadata": {},
   "source": [
    "##### Given a score 0.836, the model is doing a good job of distinguishing between the positive and negative classes."
   ]
  },
  {
   "cell_type": "code",
   "execution_count": null,
   "id": "75bcbfeb-62f6-4563-91c0-d2aedb643247",
   "metadata": {},
   "outputs": [],
   "source": []
  },
  {
   "cell_type": "code",
   "execution_count": 58,
   "id": "31d6f527-6171-45d9-808a-953697d51a45",
   "metadata": {},
   "outputs": [],
   "source": [
    "from sklearn.metrics import roc_curve\n",
    "from sklearn.metrics import auc"
   ]
  },
  {
   "cell_type": "code",
   "execution_count": 59,
   "id": "ec356491-ba47-4f40-a34e-d6475163a172",
   "metadata": {},
   "outputs": [
    {
     "data": {
      "image/png": "[encoded data removed]",
      "text/plain": [
       "<Figure size 800x600 with 1 Axes>"
      ]
     },
     "metadata": {},
     "output_type": "display_data"
    }
   ],
   "source": [
    "fpr, tpr, thresholds = roc_curve(y_val, y_pred)\n",
    "roc_auc = auc(fpr, tpr)\n",
    "\n",
    "plt.figure(figsize=(8, 6))\n",
    "plt.plot(fpr, tpr, color='b', label=f'ROC curve (AUC = {roc_auc:.2f})')\n",
    "plt.plot([0, 1], [0, 1], color='gray', linestyle='--')  # Random classifier\n",
    "plt.xlabel('False Positive Rate')\n",
    "plt.ylabel('True Positive Rate')\n",
    "plt.title('Receiver Operating Characteristic (ROC) Curve')\n",
    "plt.legend(loc='lower right')\n",
    "plt.show()"
   ]
  },
  {
   "cell_type": "code",
   "execution_count": null,
   "id": "38bfc7e7-1b35-4600-aa4d-000338f80b01",
   "metadata": {},
   "outputs": [],
   "source": []
  },
  {
   "cell_type": "markdown",
   "id": "4d290653-ab21-4dc7-b5c2-2c2986324ef7",
   "metadata": {},
   "source": [
    "#### 5e. Cross-Validation\n",
    "- Evaluating the model on different subsets of data\n",
    "- Getting the average prediction and the spread within predictions"
   ]
  },
  {
   "cell_type": "code",
   "execution_count": 60,
   "id": "d76a9060-713e-4115-a5ad-7f5dd4a4343c",
   "metadata": {},
   "outputs": [],
   "source": [
    "def train(df_train, y_train, C=1.0):\n",
    "    dicts = df_train[categorical + numerical].to_dict(orient='records')\n",
    "\n",
    "    dv = DictVectorizer(sparse=False)\n",
    "    X_train = dv.fit_transform(dicts)\n",
    "\n",
    "    model = LogisticRegression(C=C, solver='liblinear', random_state=1, max_iter=1000)\n",
    "    model.fit(X_train, y_train)\n",
    "    \n",
    "    return dv, model"
   ]
  },
  {
   "cell_type": "code",
   "execution_count": 61,
   "id": "4c6254d9-7f0f-4d82-97f2-6c9e51e62085",
   "metadata": {},
   "outputs": [],
   "source": [
    "dv, model = train(df_train, y_train, C=0.001)"
   ]
  },
  {
   "cell_type": "code",
   "execution_count": 62,
   "id": "442da362-7faa-4772-8b69-ba602398e024",
   "metadata": {},
   "outputs": [],
   "source": [
    "def predict(df, dv, model):\n",
    "    dicts = df[categorical + numerical].to_dict(orient='records')\n",
    "\n",
    "    X = dv.transform(dicts)\n",
    "    y_pred = model.predict_proba(X)[:, 1]\n",
    "\n",
    "    return y_pred"
   ]
  },
  {
   "cell_type": "code",
   "execution_count": 63,
   "id": "1acb0e4b-1d8a-4d73-a969-d042d28afa84",
   "metadata": {},
   "outputs": [],
   "source": [
    "y_pred = predict(df_val, dv, model)"
   ]
  },
  {
   "cell_type": "code",
   "execution_count": null,
   "id": "3f3899bc-bded-4ffa-99ac-13c93cfc6f56",
   "metadata": {},
   "outputs": [],
   "source": []
  },
  {
   "cell_type": "code",
   "execution_count": 64,
   "id": "72d081a3-26e5-41af-b033-3bf2943525c6",
   "metadata": {},
   "outputs": [],
   "source": [
    "from sklearn.model_selection import KFold"
   ]
  },
  {
   "cell_type": "code",
   "execution_count": 65,
   "id": "f4dd5eeb-f4db-493f-80ef-0b762fd5945d",
   "metadata": {},
   "outputs": [
    {
     "name": "stdout",
     "output_type": "stream",
     "text": [
      "Requirement already satisfied: tqdm in /home/codespace/.python/current/lib/python3.12/site-packages (4.67.0)\n"
     ]
    }
   ],
   "source": [
    "!pip install tqdm"
   ]
  },
  {
   "cell_type": "code",
   "execution_count": 66,
   "id": "d5e4ac08-d666-461a-b169-8baaabd08504",
   "metadata": {},
   "outputs": [],
   "source": [
    "from tqdm.auto import tqdm"
   ]
  },
  {
   "cell_type": "code",
   "execution_count": 67,
   "id": "7b394654-2fd2-48bd-aa5b-373be92f8b73",
   "metadata": {},
   "outputs": [
    {
     "data": {
      "application/vnd.jupyter.widget-view+json": {
       "model_id": "f9ea3cdb36644c389c36598bcc052004",
       "version_major": 2,
       "version_minor": 0
      },
      "text/plain": [
       "  0%|          | 0/7 [00:00<?, ?it/s]"
      ]
     },
     "metadata": {},
     "output_type": "display_data"
    },
    {
     "name": "stdout",
     "output_type": "stream",
     "text": [
      "C=0.001 0.812 +- 0.023\n",
      "C=0.01 0.813 +- 0.023\n",
      "C=0.1 0.816 +- 0.021\n",
      "C=0.5 0.818 +- 0.021\n",
      "C=1 0.819 +- 0.021\n",
      "C=5 0.819 +- 0.020\n",
      "C=10 0.818 +- 0.020\n"
     ]
    }
   ],
   "source": [
    "n_splits = 5\n",
    "\n",
    "for C in tqdm([0.001, 0.01, 0.1, 0.5, 1, 5, 10]):\n",
    "    kfold = KFold(n_splits=n_splits, shuffle=True, random_state=1)\n",
    "\n",
    "    scores = []\n",
    "\n",
    "    for train_idx, val_idx in kfold.split(df_full_train):\n",
    "        df_train = df_full_train.iloc[train_idx]\n",
    "        df_val = df_full_train.iloc[val_idx]\n",
    "\n",
    "        y_train = df_train.attended.values\n",
    "        y_val = df_val.attended.values\n",
    "\n",
    "        dv, model = train(df_train, y_train, C=C)\n",
    "        y_pred = predict(df_val, dv, model)\n",
    "\n",
    "        auc = roc_auc_score(y_val, y_pred)\n",
    "        scores.append(auc)\n",
    "\n",
    "    print('C=%s %.3f +- %.3f' % (C, np.mean(scores), np.std(scores)))"
   ]
  },
  {
   "cell_type": "markdown",
   "id": "dd648aa7-4fa4-41f0-8534-b6915ee2a4a5",
   "metadata": {},
   "source": [
    "##### Note: `C` is a regularization parameter commonly used in models like Logistic Regression and Support Vector Machines (SVMs). It controls the trade-off between achieving a low error on the training data and ensuring that the model remains generalizable (not overfitting)."
   ]
  },
  {
   "cell_type": "code",
   "execution_count": 68,
   "id": "6ccc8fed-d2e3-465a-8ea4-b97590cb27e1",
   "metadata": {},
   "outputs": [
    {
     "data": {
      "text/plain": [
       "[np.float64(0.821404174573055),\n",
       " np.float64(0.8365625),\n",
       " np.float64(0.8307113543091655),\n",
       " np.float64(0.8230171364359958),\n",
       " np.float64(0.7799300511164918)]"
      ]
     },
     "execution_count": 68,
     "metadata": {},
     "output_type": "execute_result"
    }
   ],
   "source": [
    "scores"
   ]
  },
  {
   "cell_type": "code",
   "execution_count": 69,
   "id": "b544ccdd-c7e1-4251-9ea9-2b3cfb623576",
   "metadata": {},
   "outputs": [
    {
     "data": {
      "text/plain": [
       "np.float64(0.7852655912357405)"
      ]
     },
     "execution_count": 69,
     "metadata": {},
     "output_type": "execute_result"
    }
   ],
   "source": [
    "dv, model = train(df_full_train, df_full_train.attended.values, C=1.0)\n",
    "y_pred = predict(df_test, dv, model)\n",
    "\n",
    "auc = roc_auc_score(y_test, y_pred)\n",
    "auc"
   ]
  },
  {
   "cell_type": "markdown",
   "id": "a4336eb2-566a-434c-a83e-e5972e25bc7a",
   "metadata": {},
   "source": [
    "- Next steps: testing other algorithms like XGBoost and Feature Interaction Model to see if they offer better predictive power."
   ]
  },
  {
   "cell_type": "code",
   "execution_count": null,
   "id": "d18c3b0b-6184-496f-ae95-9e475434444a",
   "metadata": {},
   "outputs": [],
   "source": []
  }
 ],
 "metadata": {
  "kernelspec": {
   "display_name": "Python 3 (ipykernel)",
   "language": "python",
   "name": "python3"
  },
  "language_info": {
   "codemirror_mode": {
    "name": "ipython",
    "version": 3
   },
   "file_extension": ".py",
   "mimetype": "text/x-python",
   "name": "python",
   "nbconvert_exporter": "python",
   "pygments_lexer": "ipython3",
   "version": "3.12.1"
  }
 },
 "nbformat": 4,
 "nbformat_minor": 5
}
